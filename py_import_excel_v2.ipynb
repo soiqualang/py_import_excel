{
 "nbformat": 4,
 "nbformat_minor": 2,
 "metadata": {
  "language_info": {
   "name": "python",
   "codemirror_mode": {
    "name": "ipython",
    "version": 3
   },
   "version": "3.7.6-final"
  },
  "orig_nbformat": 2,
  "file_extension": ".py",
  "mimetype": "text/x-python",
  "name": "python",
  "npconvert_exporter": "python",
  "pygments_lexer": "ipython3",
  "version": 3,
  "kernelspec": {
   "name": "python3",
   "display_name": "Python 3"
  }
 },
 "cells": [
  {
   "cell_type": "code",
   "execution_count": null,
   "metadata": {},
   "outputs": [],
   "source": [
    "import sys\n",
    "import sqlite3\n",
    "import pandas\n",
    "import json\n",
    "import requests\n",
    "import datetime\n",
    "\n",
    "\"\"\" sys.path.append('lib/')\n",
    "import Py4Sqlite3 as db \"\"\""
   ]
  },
  {
   "cell_type": "code",
   "execution_count": null,
   "metadata": {},
   "outputs": [],
   "source": [
    "import importlib\n",
    "\n",
    "sys.path.append('lib/')\n",
    "import Py4Sqlite3 as db\n",
    "importlib.reload(funcs)\n",
    "\n",
    "\"\"\" import Py4Sqlite3 as db\n",
    "import funcs \"\"\""
   ]
  },
  {
   "cell_type": "code",
   "execution_count": null,
   "metadata": {},
   "outputs": [],
   "source": [
    "conn=sqlite3.connect('mucnuoc.kt')"
   ]
  },
  {
   "cell_type": "code",
   "execution_count": null,
   "metadata": {},
   "outputs": [],
   "source": [
    "# Config\n",
    "colsname={\n",
    "  'Trạm đo': 'maso_tramdo',\n",
    "  'Mực nước (cm)': 'giatri',\n",
    "  'Thời gian đo': 'thoigian'\n",
    "}\n",
    "maso_tramdo={}\n",
    "maso_tramdo=funcs.makeDict('https://github.com/soiqualang/py_import_excel/raw/master/data/tramdo.json')\n"
   ]
  },
  {
   "cell_type": "code",
   "execution_count": 173,
   "metadata": {},
   "outputs": [],
   "source": [
    "excel_data_df = pandas.read_excel('data/mucnuoc_20rec.xlsx', sheet_name='Sheet1', usecols=['Trạm đo', 'Mực nước (cm)', 'Thời gian đo'])\n",
    "#print(excel_data_df)"
   ]
  },
  {
   "cell_type": "code",
   "execution_count": 174,
   "metadata": {},
   "outputs": [],
   "source": [
    "cctl_giatri_mucnuoc=excel_data_df.to_dict(orient='records')"
   ]
  },
  {
   "cell_type": "code",
   "execution_count": 177,
   "metadata": {},
   "outputs": [],
   "source": [
    "errs=[]\n",
    "# Prepare data\n",
    "for index,record in enumerate(cctl_giatri_mucnuoc):\n",
    "    #Do file excel mở đầu bằng tiêu đề cột và đếm từ 1\n",
    "    recid=index+2\n",
    "    rec=funcs.prepare_cctl_giatri_mucnuoc(record,colsname,maso_tramdo,errs,recid)\n",
    "    #db.insert_table('cctl_giatri_mucnuoc',rec['fields'],rec['values'],conn)"
   ]
  },
  {
   "cell_type": "code",
   "execution_count": 178,
   "metadata": {},
   "outputs": [
    {
     "name": "stdout",
     "output_type": "stream",
     "text": "['Cảnh báo! Dòng 9 không có giá trị', 'Lỗi! Dòng 14 không có giá trị', 'Lỗi dòng 16, giá trị \"161,3\" không phải là số.']\n"
    }
   ],
   "source": [
    "print(errs)"
   ]
  },
  {
   "cell_type": "code",
   "execution_count": 116,
   "metadata": {},
   "outputs": [],
   "source": [
    "rows=db.table_to_array1('cctl_giatri_mucnuoc',conn)\n",
    "for row in rows:\n",
    "    print(row['id'],row['giatri'],row['thoigian'],row['ghichu'],row['maso_tramdo'])"
   ]
  },
  {
   "cell_type": "code",
   "execution_count": 117,
   "metadata": {},
   "outputs": [],
   "source": [
    "db.truncate_tbl('cctl_giatri_mucnuoc',conn)"
   ]
  },
  {
   "cell_type": "code",
   "execution_count": null,
   "metadata": {},
   "outputs": [],
   "source": []
  }
 ]
}