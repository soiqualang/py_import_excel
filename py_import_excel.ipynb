{
  "nbformat": 4,
  "nbformat_minor": 0,
  "metadata": {
    "colab": {
      "name": "py_import_excel.ipynb",
      "provenance": [],
      "collapsed_sections": [],
      "authorship_tag": "ABX9TyN6PYoEWvkyVMbACcPE3JMw",
      "include_colab_link": true
    },
    "kernelspec": {
      "name": "python3",
      "display_name": "Python 3"
    }
  },
  "cells": [
    {
      "cell_type": "markdown",
      "metadata": {
        "id": "view-in-github",
        "colab_type": "text"
      },
      "source": [
        "<a href=\"https://colab.research.google.com/github/soiqualang/py_import_excel/blob/master/py_import_excel.ipynb\" target=\"_parent\"><img src=\"https://colab.research.google.com/assets/colab-badge.svg\" alt=\"Open In Colab\"/></a>"
      ]
    },
    {
      "cell_type": "markdown",
      "metadata": {
        "id": "gJaCPAsPQ2Zq",
        "colab_type": "text"
      },
      "source": [
        "https://www.journaldev.com/33306/pandas-read_excel-reading-excel-file-in-python"
      ]
    },
    {
      "cell_type": "code",
      "metadata": {
        "id": "Lu7CyJoqNz2e",
        "colab_type": "code",
        "colab": {}
      },
      "source": [
        "!rm -r sample_data/"
      ],
      "execution_count": 0,
      "outputs": []
    },
    {
      "cell_type": "code",
      "metadata": {
        "id": "tymioiiZOUYq",
        "colab_type": "code",
        "colab": {}
      },
      "source": [
        "import pandas"
      ],
      "execution_count": 0,
      "outputs": []
    },
    {
      "cell_type": "code",
      "metadata": {
        "id": "-mfxJRaYOcdg",
        "colab_type": "code",
        "colab": {
          "base_uri": "https://localhost:8080/",
          "height": 357
        },
        "outputId": "c794280d-f457-4804-ebea-7123c306bd8d"
      },
      "source": [
        "excel_data_df = pandas.read_excel('mucnuoc_20rec.xlsx', sheet_name='Sheet1', usecols=['Trạm đo', 'Mực nước (cm)', 'Thời gian đo'])\n",
        "print(excel_data_df)"
      ],
      "execution_count": 7,
      "outputs": [
        {
          "output_type": "stream",
          "text": [
            "        Trạm đo  Mực nước (cm) Thời gian đo\n",
            "0    Chợ Lách 1            150   2017-01-01\n",
            "1    Chợ Lách 7            156   2017-01-02\n",
            "2    Chợ Lách 3            160   2017-01-03\n",
            "3    Chợ Lách 4            150   2017-01-04\n",
            "4    Chợ Lách 5            149   2017-01-05\n",
            "5    Chợ Lách 6            151   2017-01-06\n",
            "6    Chợ Lách 7            143   2017-01-07\n",
            "7    Chợ Lách 8            143   2017-01-08\n",
            "8    Chợ Lách 9            147   2017-01-09\n",
            "9   Chợ Lách 15            152   2017-01-10\n",
            "10  Chợ Lách 11            153   2017-01-11\n",
            "11  Chợ Lách 12            154   2017-01-12\n",
            "12  Chợ Lách 13            156   2017-01-13\n",
            "13  Chợ Lách 14            162   2017-01-14\n",
            "14  Chợ Lách 15            161   2017-01-15\n",
            "15  Chợ Lách 16            155   2017-01-16\n",
            "16  Chợ Lách 17            151   2017-01-17\n",
            "17  Chợ Lách 18            136   2017-01-18\n",
            "18  Chợ Lách 19            133   2017-01-19\n"
          ],
          "name": "stdout"
        }
      ]
    },
    {
      "cell_type": "code",
      "metadata": {
        "id": "zUYZTEY0OsjQ",
        "colab_type": "code",
        "colab": {
          "base_uri": "https://localhost:8080/",
          "height": 54
        },
        "outputId": "c326e863-f6a1-436f-8586-f977eb62745d"
      },
      "source": [
        "print('Excel Sheet to JSON:', excel_data_df.to_json(orient='records'))"
      ],
      "execution_count": 8,
      "outputs": [
        {
          "output_type": "stream",
          "text": [
            "Excel Sheet to JSON: [{\"Tr\\u1ea1m \\u0111o\":\"Ch\\u1ee3 L\\u00e1ch 1\",\"M\\u1ef1c n\\u01b0\\u1edbc (cm)\":150,\"Th\\u1eddi gian \\u0111o\":\"2017-01-01\"},{\"Tr\\u1ea1m \\u0111o\":\"Ch\\u1ee3 L\\u00e1ch 7\",\"M\\u1ef1c n\\u01b0\\u1edbc (cm)\":156,\"Th\\u1eddi gian \\u0111o\":\"2017-01-02\"},{\"Tr\\u1ea1m \\u0111o\":\"Ch\\u1ee3 L\\u00e1ch 3\",\"M\\u1ef1c n\\u01b0\\u1edbc (cm)\":160,\"Th\\u1eddi gian \\u0111o\":\"2017-01-03\"},{\"Tr\\u1ea1m \\u0111o\":\"Ch\\u1ee3 L\\u00e1ch 4\",\"M\\u1ef1c n\\u01b0\\u1edbc (cm)\":150,\"Th\\u1eddi gian \\u0111o\":\"2017-01-04\"},{\"Tr\\u1ea1m \\u0111o\":\"Ch\\u1ee3 L\\u00e1ch 5\",\"M\\u1ef1c n\\u01b0\\u1edbc (cm)\":149,\"Th\\u1eddi gian \\u0111o\":\"2017-01-05\"},{\"Tr\\u1ea1m \\u0111o\":\"Ch\\u1ee3 L\\u00e1ch 6\",\"M\\u1ef1c n\\u01b0\\u1edbc (cm)\":151,\"Th\\u1eddi gian \\u0111o\":\"2017-01-06\"},{\"Tr\\u1ea1m \\u0111o\":\"Ch\\u1ee3 L\\u00e1ch 7\",\"M\\u1ef1c n\\u01b0\\u1edbc (cm)\":143,\"Th\\u1eddi gian \\u0111o\":\"2017-01-07\"},{\"Tr\\u1ea1m \\u0111o\":\"Ch\\u1ee3 L\\u00e1ch 8\",\"M\\u1ef1c n\\u01b0\\u1edbc (cm)\":143,\"Th\\u1eddi gian \\u0111o\":\"2017-01-08\"},{\"Tr\\u1ea1m \\u0111o\":\"Ch\\u1ee3 L\\u00e1ch 9\",\"M\\u1ef1c n\\u01b0\\u1edbc (cm)\":147,\"Th\\u1eddi gian \\u0111o\":\"2017-01-09\"},{\"Tr\\u1ea1m \\u0111o\":\"Ch\\u1ee3 L\\u00e1ch 15\",\"M\\u1ef1c n\\u01b0\\u1edbc (cm)\":152,\"Th\\u1eddi gian \\u0111o\":\"2017-01-10\"},{\"Tr\\u1ea1m \\u0111o\":\"Ch\\u1ee3 L\\u00e1ch 11\",\"M\\u1ef1c n\\u01b0\\u1edbc (cm)\":153,\"Th\\u1eddi gian \\u0111o\":\"2017-01-11\"},{\"Tr\\u1ea1m \\u0111o\":\"Ch\\u1ee3 L\\u00e1ch 12\",\"M\\u1ef1c n\\u01b0\\u1edbc (cm)\":154,\"Th\\u1eddi gian \\u0111o\":\"2017-01-12\"},{\"Tr\\u1ea1m \\u0111o\":\"Ch\\u1ee3 L\\u00e1ch 13\",\"M\\u1ef1c n\\u01b0\\u1edbc (cm)\":156,\"Th\\u1eddi gian \\u0111o\":\"2017-01-13\"},{\"Tr\\u1ea1m \\u0111o\":\"Ch\\u1ee3 L\\u00e1ch 14\",\"M\\u1ef1c n\\u01b0\\u1edbc (cm)\":162,\"Th\\u1eddi gian \\u0111o\":\"2017-01-14\"},{\"Tr\\u1ea1m \\u0111o\":\"Ch\\u1ee3 L\\u00e1ch 15\",\"M\\u1ef1c n\\u01b0\\u1edbc (cm)\":161,\"Th\\u1eddi gian \\u0111o\":\"2017-01-15\"},{\"Tr\\u1ea1m \\u0111o\":\"Ch\\u1ee3 L\\u00e1ch 16\",\"M\\u1ef1c n\\u01b0\\u1edbc (cm)\":155,\"Th\\u1eddi gian \\u0111o\":\"2017-01-16\"},{\"Tr\\u1ea1m \\u0111o\":\"Ch\\u1ee3 L\\u00e1ch 17\",\"M\\u1ef1c n\\u01b0\\u1edbc (cm)\":151,\"Th\\u1eddi gian \\u0111o\":\"2017-01-17\"},{\"Tr\\u1ea1m \\u0111o\":\"Ch\\u1ee3 L\\u00e1ch 18\",\"M\\u1ef1c n\\u01b0\\u1edbc (cm)\":136,\"Th\\u1eddi gian \\u0111o\":\"2017-01-18\"},{\"Tr\\u1ea1m \\u0111o\":\"Ch\\u1ee3 L\\u00e1ch 19\",\"M\\u1ef1c n\\u01b0\\u1edbc (cm)\":133,\"Th\\u1eddi gian \\u0111o\":\"2017-01-19\"}]\n"
          ],
          "name": "stdout"
        }
      ]
    },
    {
      "cell_type": "code",
      "metadata": {
        "id": "qlfTI7KAQSkA",
        "colab_type": "code",
        "colab": {
          "base_uri": "https://localhost:8080/",
          "height": 445
        },
        "outputId": "0b48f37a-4915-4524-9b75-688a8a64afdf"
      },
      "source": [
        "print('Excel Sheet to Dict:', excel_data_df.to_dict(orient='record'))\n",
        "print('Excel Sheet to JSON:', excel_data_df.to_json(orient='records'))\n",
        "print('Excel Sheet to CSV:\\n', excel_data_df.to_csv(index=False))"
      ],
      "execution_count": 9,
      "outputs": [
        {
          "output_type": "stream",
          "text": [
            "Excel Sheet to Dict: [{'Trạm đo': 'Chợ Lách 1', 'Mực nước (cm)': 150, 'Thời gian đo': '2017-01-01'}, {'Trạm đo': 'Chợ Lách 7', 'Mực nước (cm)': 156, 'Thời gian đo': '2017-01-02'}, {'Trạm đo': 'Chợ Lách 3', 'Mực nước (cm)': 160, 'Thời gian đo': '2017-01-03'}, {'Trạm đo': 'Chợ Lách 4', 'Mực nước (cm)': 150, 'Thời gian đo': '2017-01-04'}, {'Trạm đo': 'Chợ Lách 5', 'Mực nước (cm)': 149, 'Thời gian đo': '2017-01-05'}, {'Trạm đo': 'Chợ Lách 6', 'Mực nước (cm)': 151, 'Thời gian đo': '2017-01-06'}, {'Trạm đo': 'Chợ Lách 7', 'Mực nước (cm)': 143, 'Thời gian đo': '2017-01-07'}, {'Trạm đo': 'Chợ Lách 8', 'Mực nước (cm)': 143, 'Thời gian đo': '2017-01-08'}, {'Trạm đo': 'Chợ Lách 9', 'Mực nước (cm)': 147, 'Thời gian đo': '2017-01-09'}, {'Trạm đo': 'Chợ Lách 15', 'Mực nước (cm)': 152, 'Thời gian đo': '2017-01-10'}, {'Trạm đo': 'Chợ Lách 11', 'Mực nước (cm)': 153, 'Thời gian đo': '2017-01-11'}, {'Trạm đo': 'Chợ Lách 12', 'Mực nước (cm)': 154, 'Thời gian đo': '2017-01-12'}, {'Trạm đo': 'Chợ Lách 13', 'Mực nước (cm)': 156, 'Thời gian đo': '2017-01-13'}, {'Trạm đo': 'Chợ Lách 14', 'Mực nước (cm)': 162, 'Thời gian đo': '2017-01-14'}, {'Trạm đo': 'Chợ Lách 15', 'Mực nước (cm)': 161, 'Thời gian đo': '2017-01-15'}, {'Trạm đo': 'Chợ Lách 16', 'Mực nước (cm)': 155, 'Thời gian đo': '2017-01-16'}, {'Trạm đo': 'Chợ Lách 17', 'Mực nước (cm)': 151, 'Thời gian đo': '2017-01-17'}, {'Trạm đo': 'Chợ Lách 18', 'Mực nước (cm)': 136, 'Thời gian đo': '2017-01-18'}, {'Trạm đo': 'Chợ Lách 19', 'Mực nước (cm)': 133, 'Thời gian đo': '2017-01-19'}]\n",
            "Excel Sheet to JSON: [{\"Tr\\u1ea1m \\u0111o\":\"Ch\\u1ee3 L\\u00e1ch 1\",\"M\\u1ef1c n\\u01b0\\u1edbc (cm)\":150,\"Th\\u1eddi gian \\u0111o\":\"2017-01-01\"},{\"Tr\\u1ea1m \\u0111o\":\"Ch\\u1ee3 L\\u00e1ch 7\",\"M\\u1ef1c n\\u01b0\\u1edbc (cm)\":156,\"Th\\u1eddi gian \\u0111o\":\"2017-01-02\"},{\"Tr\\u1ea1m \\u0111o\":\"Ch\\u1ee3 L\\u00e1ch 3\",\"M\\u1ef1c n\\u01b0\\u1edbc (cm)\":160,\"Th\\u1eddi gian \\u0111o\":\"2017-01-03\"},{\"Tr\\u1ea1m \\u0111o\":\"Ch\\u1ee3 L\\u00e1ch 4\",\"M\\u1ef1c n\\u01b0\\u1edbc (cm)\":150,\"Th\\u1eddi gian \\u0111o\":\"2017-01-04\"},{\"Tr\\u1ea1m \\u0111o\":\"Ch\\u1ee3 L\\u00e1ch 5\",\"M\\u1ef1c n\\u01b0\\u1edbc (cm)\":149,\"Th\\u1eddi gian \\u0111o\":\"2017-01-05\"},{\"Tr\\u1ea1m \\u0111o\":\"Ch\\u1ee3 L\\u00e1ch 6\",\"M\\u1ef1c n\\u01b0\\u1edbc (cm)\":151,\"Th\\u1eddi gian \\u0111o\":\"2017-01-06\"},{\"Tr\\u1ea1m \\u0111o\":\"Ch\\u1ee3 L\\u00e1ch 7\",\"M\\u1ef1c n\\u01b0\\u1edbc (cm)\":143,\"Th\\u1eddi gian \\u0111o\":\"2017-01-07\"},{\"Tr\\u1ea1m \\u0111o\":\"Ch\\u1ee3 L\\u00e1ch 8\",\"M\\u1ef1c n\\u01b0\\u1edbc (cm)\":143,\"Th\\u1eddi gian \\u0111o\":\"2017-01-08\"},{\"Tr\\u1ea1m \\u0111o\":\"Ch\\u1ee3 L\\u00e1ch 9\",\"M\\u1ef1c n\\u01b0\\u1edbc (cm)\":147,\"Th\\u1eddi gian \\u0111o\":\"2017-01-09\"},{\"Tr\\u1ea1m \\u0111o\":\"Ch\\u1ee3 L\\u00e1ch 15\",\"M\\u1ef1c n\\u01b0\\u1edbc (cm)\":152,\"Th\\u1eddi gian \\u0111o\":\"2017-01-10\"},{\"Tr\\u1ea1m \\u0111o\":\"Ch\\u1ee3 L\\u00e1ch 11\",\"M\\u1ef1c n\\u01b0\\u1edbc (cm)\":153,\"Th\\u1eddi gian \\u0111o\":\"2017-01-11\"},{\"Tr\\u1ea1m \\u0111o\":\"Ch\\u1ee3 L\\u00e1ch 12\",\"M\\u1ef1c n\\u01b0\\u1edbc (cm)\":154,\"Th\\u1eddi gian \\u0111o\":\"2017-01-12\"},{\"Tr\\u1ea1m \\u0111o\":\"Ch\\u1ee3 L\\u00e1ch 13\",\"M\\u1ef1c n\\u01b0\\u1edbc (cm)\":156,\"Th\\u1eddi gian \\u0111o\":\"2017-01-13\"},{\"Tr\\u1ea1m \\u0111o\":\"Ch\\u1ee3 L\\u00e1ch 14\",\"M\\u1ef1c n\\u01b0\\u1edbc (cm)\":162,\"Th\\u1eddi gian \\u0111o\":\"2017-01-14\"},{\"Tr\\u1ea1m \\u0111o\":\"Ch\\u1ee3 L\\u00e1ch 15\",\"M\\u1ef1c n\\u01b0\\u1edbc (cm)\":161,\"Th\\u1eddi gian \\u0111o\":\"2017-01-15\"},{\"Tr\\u1ea1m \\u0111o\":\"Ch\\u1ee3 L\\u00e1ch 16\",\"M\\u1ef1c n\\u01b0\\u1edbc (cm)\":155,\"Th\\u1eddi gian \\u0111o\":\"2017-01-16\"},{\"Tr\\u1ea1m \\u0111o\":\"Ch\\u1ee3 L\\u00e1ch 17\",\"M\\u1ef1c n\\u01b0\\u1edbc (cm)\":151,\"Th\\u1eddi gian \\u0111o\":\"2017-01-17\"},{\"Tr\\u1ea1m \\u0111o\":\"Ch\\u1ee3 L\\u00e1ch 18\",\"M\\u1ef1c n\\u01b0\\u1edbc (cm)\":136,\"Th\\u1eddi gian \\u0111o\":\"2017-01-18\"},{\"Tr\\u1ea1m \\u0111o\":\"Ch\\u1ee3 L\\u00e1ch 19\",\"M\\u1ef1c n\\u01b0\\u1edbc (cm)\":133,\"Th\\u1eddi gian \\u0111o\":\"2017-01-19\"}]\n",
            "Excel Sheet to CSV:\n",
            " Trạm đo,Mực nước (cm),Thời gian đo\n",
            "Chợ Lách 1,150,2017-01-01\n",
            "Chợ Lách 7,156,2017-01-02\n",
            "Chợ Lách 3,160,2017-01-03\n",
            "Chợ Lách 4,150,2017-01-04\n",
            "Chợ Lách 5,149,2017-01-05\n",
            "Chợ Lách 6,151,2017-01-06\n",
            "Chợ Lách 7,143,2017-01-07\n",
            "Chợ Lách 8,143,2017-01-08\n",
            "Chợ Lách 9,147,2017-01-09\n",
            "Chợ Lách 15,152,2017-01-10\n",
            "Chợ Lách 11,153,2017-01-11\n",
            "Chợ Lách 12,154,2017-01-12\n",
            "Chợ Lách 13,156,2017-01-13\n",
            "Chợ Lách 14,162,2017-01-14\n",
            "Chợ Lách 15,161,2017-01-15\n",
            "Chợ Lách 16,155,2017-01-16\n",
            "Chợ Lách 17,151,2017-01-17\n",
            "Chợ Lách 18,136,2017-01-18\n",
            "Chợ Lách 19,133,2017-01-19\n",
            "\n"
          ],
          "name": "stdout"
        }
      ]
    },
    {
      "cell_type": "code",
      "metadata": {
        "id": "k9EFVnbtQ5lI",
        "colab_type": "code",
        "colab": {}
      },
      "source": [
        ""
      ],
      "execution_count": 0,
      "outputs": []
    }
  ]
}