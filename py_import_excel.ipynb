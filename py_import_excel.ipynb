{
  "nbformat": 4,
  "nbformat_minor": 0,
  "metadata": {
    "colab": {
      "name": "py_import_excel.ipynb",
      "provenance": [],
      "collapsed_sections": [],
      "toc_visible": true,
      "authorship_tag": "ABX9TyPI0BtmN8NOA5QY2SUTymtl",
      "include_colab_link": true
    },
    "kernelspec": {
      "name": "python3",
      "display_name": "Python 3"
    }
  },
  "cells": [
    {
      "cell_type": "markdown",
      "metadata": {
        "colab_type": "text",
        "id": "view-in-github"
      },
      "source": [
        "<a href=\"https://colab.research.google.com/github/soiqualang/py_import_excel/blob/master/py_import_excel.ipynb\" target=\"_parent\"><img src=\"https://colab.research.google.com/assets/colab-badge.svg\" alt=\"Open In Colab\"/></a>"
      ]
    },
    {
      "cell_type": "markdown",
      "metadata": {
        "colab_type": "text",
        "id": "gJaCPAsPQ2Zq"
      },
      "source": [
        "https://www.journaldev.com/33306/pandas-read_excel-reading-excel-file-in-python"
      ]
    },
    {
      "cell_type": "code",
      "execution_count": 0,
      "metadata": {
        "colab": {},
        "colab_type": "code",
        "id": "Lu7CyJoqNz2e"
      },
      "outputs": [],
      "source": [
        "!rm -r sample_data/"
      ]
    },
    {
      "cell_type": "code",
      "execution_count": 0,
      "metadata": {
        "colab": {},
        "colab_type": "code",
        "id": "hm-4p7M9F0mG"
      },
      "outputs": [],
      "source": [
        "!wget https://github.com/soiqualang/py_import_excel/raw/master/data/mucnuoc_20rec.xlsx"
      ]
    },
    {
      "cell_type": "code",
      "execution_count": 1,
      "metadata": {},
      "outputs": [],
      "source": [
        "import pandas\n",
        "import json"
      ]
    },
    {
      "cell_type": "code",
      "execution_count": 0,
      "metadata": {
        "colab": {
          "base_uri": "https://localhost:8080/",
          "height": 357
        },
        "colab_type": "code",
        "id": "-mfxJRaYOcdg",
        "outputId": "4e403f38-88d0-4b6a-bfe8-b150981032a7"
      },
      "outputs": [
        {
          "name": "stdout",
          "output_type": "stream",
          "text": [
            "        Trạm đo  Mực nước (cm) Thời gian đo\n",
            "0    Chợ Lách 1            150   2017-01-01\n",
            "1    Chợ Lách 7            156   2017-01-02\n",
            "2    Chợ Lách 3            160   2017-01-03\n",
            "3    Chợ Lách 4            150   2017-01-04\n",
            "4    Chợ Lách 5            149   2017-01-05\n",
            "5    Chợ Lách 6            151   2017-01-06\n",
            "6    Chợ Lách 7            143   2017-01-07\n",
            "7    Chợ Lách 8            143   2017-01-08\n",
            "8    Chợ Lách 9            147   2017-01-09\n",
            "9   Chợ Lách 15            152   2017-01-10\n",
            "10  Chợ Lách 11            153   2017-01-11\n",
            "11  Chợ Lách 12            154   2017-01-12\n",
            "12  Chợ Lách 13            156   2017-01-13\n",
            "13  Chợ Lách 14            162   2017-01-14\n",
            "14  Chợ Lách 15            161   2017-01-15\n",
            "15  Chợ Lách 16            155   2017-01-16\n",
            "16  Chợ Lách 17            151   2017-01-17\n",
            "17  Chợ Lách 18            136   2017-01-18\n",
            "18  Chợ Lách 19            133   2017-01-19\n"
          ]
        }
      ],
      "source": [
        "excel_data_df = pandas.read_excel('mucnuoc_20rec.xlsx', sheet_name='Sheet1', usecols=['Trạm đo', 'Mực nước (cm)', 'Thời gian đo'])\n",
        "print(excel_data_df)"
      ]
    },
    {
      "cell_type": "code",
      "execution_count": 0,
      "metadata": {
        "colab": {
          "base_uri": "https://localhost:8080/",
          "height": 54
        },
        "colab_type": "code",
        "id": "zUYZTEY0OsjQ",
        "outputId": "64bb1fba-522d-44a0-b5b5-bb7996e91367"
      },
      "outputs": [
        {
          "name": "stdout",
          "output_type": "stream",
          "text": [
            "Excel Sheet to JSON: [{\"Tr\\u1ea1m \\u0111o\":\"Ch\\u1ee3 L\\u00e1ch 1\",\"M\\u1ef1c n\\u01b0\\u1edbc (cm)\":150,\"Th\\u1eddi gian \\u0111o\":\"2017-01-01\"},{\"Tr\\u1ea1m \\u0111o\":\"Ch\\u1ee3 L\\u00e1ch 7\",\"M\\u1ef1c n\\u01b0\\u1edbc (cm)\":156,\"Th\\u1eddi gian \\u0111o\":\"2017-01-02\"},{\"Tr\\u1ea1m \\u0111o\":\"Ch\\u1ee3 L\\u00e1ch 3\",\"M\\u1ef1c n\\u01b0\\u1edbc (cm)\":160,\"Th\\u1eddi gian \\u0111o\":\"2017-01-03\"},{\"Tr\\u1ea1m \\u0111o\":\"Ch\\u1ee3 L\\u00e1ch 4\",\"M\\u1ef1c n\\u01b0\\u1edbc (cm)\":150,\"Th\\u1eddi gian \\u0111o\":\"2017-01-04\"},{\"Tr\\u1ea1m \\u0111o\":\"Ch\\u1ee3 L\\u00e1ch 5\",\"M\\u1ef1c n\\u01b0\\u1edbc (cm)\":149,\"Th\\u1eddi gian \\u0111o\":\"2017-01-05\"},{\"Tr\\u1ea1m \\u0111o\":\"Ch\\u1ee3 L\\u00e1ch 6\",\"M\\u1ef1c n\\u01b0\\u1edbc (cm)\":151,\"Th\\u1eddi gian \\u0111o\":\"2017-01-06\"},{\"Tr\\u1ea1m \\u0111o\":\"Ch\\u1ee3 L\\u00e1ch 7\",\"M\\u1ef1c n\\u01b0\\u1edbc (cm)\":143,\"Th\\u1eddi gian \\u0111o\":\"2017-01-07\"},{\"Tr\\u1ea1m \\u0111o\":\"Ch\\u1ee3 L\\u00e1ch 8\",\"M\\u1ef1c n\\u01b0\\u1edbc (cm)\":143,\"Th\\u1eddi gian \\u0111o\":\"2017-01-08\"},{\"Tr\\u1ea1m \\u0111o\":\"Ch\\u1ee3 L\\u00e1ch 9\",\"M\\u1ef1c n\\u01b0\\u1edbc (cm)\":147,\"Th\\u1eddi gian \\u0111o\":\"2017-01-09\"},{\"Tr\\u1ea1m \\u0111o\":\"Ch\\u1ee3 L\\u00e1ch 15\",\"M\\u1ef1c n\\u01b0\\u1edbc (cm)\":152,\"Th\\u1eddi gian \\u0111o\":\"2017-01-10\"},{\"Tr\\u1ea1m \\u0111o\":\"Ch\\u1ee3 L\\u00e1ch 11\",\"M\\u1ef1c n\\u01b0\\u1edbc (cm)\":153,\"Th\\u1eddi gian \\u0111o\":\"2017-01-11\"},{\"Tr\\u1ea1m \\u0111o\":\"Ch\\u1ee3 L\\u00e1ch 12\",\"M\\u1ef1c n\\u01b0\\u1edbc (cm)\":154,\"Th\\u1eddi gian \\u0111o\":\"2017-01-12\"},{\"Tr\\u1ea1m \\u0111o\":\"Ch\\u1ee3 L\\u00e1ch 13\",\"M\\u1ef1c n\\u01b0\\u1edbc (cm)\":156,\"Th\\u1eddi gian \\u0111o\":\"2017-01-13\"},{\"Tr\\u1ea1m \\u0111o\":\"Ch\\u1ee3 L\\u00e1ch 14\",\"M\\u1ef1c n\\u01b0\\u1edbc (cm)\":162,\"Th\\u1eddi gian \\u0111o\":\"2017-01-14\"},{\"Tr\\u1ea1m \\u0111o\":\"Ch\\u1ee3 L\\u00e1ch 15\",\"M\\u1ef1c n\\u01b0\\u1edbc (cm)\":161,\"Th\\u1eddi gian \\u0111o\":\"2017-01-15\"},{\"Tr\\u1ea1m \\u0111o\":\"Ch\\u1ee3 L\\u00e1ch 16\",\"M\\u1ef1c n\\u01b0\\u1edbc (cm)\":155,\"Th\\u1eddi gian \\u0111o\":\"2017-01-16\"},{\"Tr\\u1ea1m \\u0111o\":\"Ch\\u1ee3 L\\u00e1ch 17\",\"M\\u1ef1c n\\u01b0\\u1edbc (cm)\":151,\"Th\\u1eddi gian \\u0111o\":\"2017-01-17\"},{\"Tr\\u1ea1m \\u0111o\":\"Ch\\u1ee3 L\\u00e1ch 18\",\"M\\u1ef1c n\\u01b0\\u1edbc (cm)\":136,\"Th\\u1eddi gian \\u0111o\":\"2017-01-18\"},{\"Tr\\u1ea1m \\u0111o\":\"Ch\\u1ee3 L\\u00e1ch 19\",\"M\\u1ef1c n\\u01b0\\u1edbc (cm)\":133,\"Th\\u1eddi gian \\u0111o\":\"2017-01-19\"}]\n"
          ]
        }
      ],
      "source": [
        "print('Excel Sheet to JSON:', excel_data_df.to_json(orient='records'))"
      ]
    },
    {
      "cell_type": "code",
      "execution_count": 0,
      "metadata": {
        "colab": {
          "base_uri": "https://localhost:8080/",
          "height": 445
        },
        "colab_type": "code",
        "id": "qlfTI7KAQSkA",
        "outputId": "c7c43c22-b3c4-4d14-f886-1d9faf40cb58"
      },
      "outputs": [
        {
          "name": "stdout",
          "output_type": "stream",
          "text": [
            "Excel Sheet to Dict: [{'Trạm đo': 'Chợ Lách 1', 'Mực nước (cm)': 150, 'Thời gian đo': '2017-01-01'}, {'Trạm đo': 'Chợ Lách 7', 'Mực nước (cm)': 156, 'Thời gian đo': '2017-01-02'}, {'Trạm đo': 'Chợ Lách 3', 'Mực nước (cm)': 160, 'Thời gian đo': '2017-01-03'}, {'Trạm đo': 'Chợ Lách 4', 'Mực nước (cm)': 150, 'Thời gian đo': '2017-01-04'}, {'Trạm đo': 'Chợ Lách 5', 'Mực nước (cm)': 149, 'Thời gian đo': '2017-01-05'}, {'Trạm đo': 'Chợ Lách 6', 'Mực nước (cm)': 151, 'Thời gian đo': '2017-01-06'}, {'Trạm đo': 'Chợ Lách 7', 'Mực nước (cm)': 143, 'Thời gian đo': '2017-01-07'}, {'Trạm đo': 'Chợ Lách 8', 'Mực nước (cm)': 143, 'Thời gian đo': '2017-01-08'}, {'Trạm đo': 'Chợ Lách 9', 'Mực nước (cm)': 147, 'Thời gian đo': '2017-01-09'}, {'Trạm đo': 'Chợ Lách 15', 'Mực nước (cm)': 152, 'Thời gian đo': '2017-01-10'}, {'Trạm đo': 'Chợ Lách 11', 'Mực nước (cm)': 153, 'Thời gian đo': '2017-01-11'}, {'Trạm đo': 'Chợ Lách 12', 'Mực nước (cm)': 154, 'Thời gian đo': '2017-01-12'}, {'Trạm đo': 'Chợ Lách 13', 'Mực nước (cm)': 156, 'Thời gian đo': '2017-01-13'}, {'Trạm đo': 'Chợ Lách 14', 'Mực nước (cm)': 162, 'Thời gian đo': '2017-01-14'}, {'Trạm đo': 'Chợ Lách 15', 'Mực nước (cm)': 161, 'Thời gian đo': '2017-01-15'}, {'Trạm đo': 'Chợ Lách 16', 'Mực nước (cm)': 155, 'Thời gian đo': '2017-01-16'}, {'Trạm đo': 'Chợ Lách 17', 'Mực nước (cm)': 151, 'Thời gian đo': '2017-01-17'}, {'Trạm đo': 'Chợ Lách 18', 'Mực nước (cm)': 136, 'Thời gian đo': '2017-01-18'}, {'Trạm đo': 'Chợ Lách 19', 'Mực nước (cm)': 133, 'Thời gian đo': '2017-01-19'}]\n",
            "Excel Sheet to JSON: [{\"Tr\\u1ea1m \\u0111o\":\"Ch\\u1ee3 L\\u00e1ch 1\",\"M\\u1ef1c n\\u01b0\\u1edbc (cm)\":150,\"Th\\u1eddi gian \\u0111o\":\"2017-01-01\"},{\"Tr\\u1ea1m \\u0111o\":\"Ch\\u1ee3 L\\u00e1ch 7\",\"M\\u1ef1c n\\u01b0\\u1edbc (cm)\":156,\"Th\\u1eddi gian \\u0111o\":\"2017-01-02\"},{\"Tr\\u1ea1m \\u0111o\":\"Ch\\u1ee3 L\\u00e1ch 3\",\"M\\u1ef1c n\\u01b0\\u1edbc (cm)\":160,\"Th\\u1eddi gian \\u0111o\":\"2017-01-03\"},{\"Tr\\u1ea1m \\u0111o\":\"Ch\\u1ee3 L\\u00e1ch 4\",\"M\\u1ef1c n\\u01b0\\u1edbc (cm)\":150,\"Th\\u1eddi gian \\u0111o\":\"2017-01-04\"},{\"Tr\\u1ea1m \\u0111o\":\"Ch\\u1ee3 L\\u00e1ch 5\",\"M\\u1ef1c n\\u01b0\\u1edbc (cm)\":149,\"Th\\u1eddi gian \\u0111o\":\"2017-01-05\"},{\"Tr\\u1ea1m \\u0111o\":\"Ch\\u1ee3 L\\u00e1ch 6\",\"M\\u1ef1c n\\u01b0\\u1edbc (cm)\":151,\"Th\\u1eddi gian \\u0111o\":\"2017-01-06\"},{\"Tr\\u1ea1m \\u0111o\":\"Ch\\u1ee3 L\\u00e1ch 7\",\"M\\u1ef1c n\\u01b0\\u1edbc (cm)\":143,\"Th\\u1eddi gian \\u0111o\":\"2017-01-07\"},{\"Tr\\u1ea1m \\u0111o\":\"Ch\\u1ee3 L\\u00e1ch 8\",\"M\\u1ef1c n\\u01b0\\u1edbc (cm)\":143,\"Th\\u1eddi gian \\u0111o\":\"2017-01-08\"},{\"Tr\\u1ea1m \\u0111o\":\"Ch\\u1ee3 L\\u00e1ch 9\",\"M\\u1ef1c n\\u01b0\\u1edbc (cm)\":147,\"Th\\u1eddi gian \\u0111o\":\"2017-01-09\"},{\"Tr\\u1ea1m \\u0111o\":\"Ch\\u1ee3 L\\u00e1ch 15\",\"M\\u1ef1c n\\u01b0\\u1edbc (cm)\":152,\"Th\\u1eddi gian \\u0111o\":\"2017-01-10\"},{\"Tr\\u1ea1m \\u0111o\":\"Ch\\u1ee3 L\\u00e1ch 11\",\"M\\u1ef1c n\\u01b0\\u1edbc (cm)\":153,\"Th\\u1eddi gian \\u0111o\":\"2017-01-11\"},{\"Tr\\u1ea1m \\u0111o\":\"Ch\\u1ee3 L\\u00e1ch 12\",\"M\\u1ef1c n\\u01b0\\u1edbc (cm)\":154,\"Th\\u1eddi gian \\u0111o\":\"2017-01-12\"},{\"Tr\\u1ea1m \\u0111o\":\"Ch\\u1ee3 L\\u00e1ch 13\",\"M\\u1ef1c n\\u01b0\\u1edbc (cm)\":156,\"Th\\u1eddi gian \\u0111o\":\"2017-01-13\"},{\"Tr\\u1ea1m \\u0111o\":\"Ch\\u1ee3 L\\u00e1ch 14\",\"M\\u1ef1c n\\u01b0\\u1edbc (cm)\":162,\"Th\\u1eddi gian \\u0111o\":\"2017-01-14\"},{\"Tr\\u1ea1m \\u0111o\":\"Ch\\u1ee3 L\\u00e1ch 15\",\"M\\u1ef1c n\\u01b0\\u1edbc (cm)\":161,\"Th\\u1eddi gian \\u0111o\":\"2017-01-15\"},{\"Tr\\u1ea1m \\u0111o\":\"Ch\\u1ee3 L\\u00e1ch 16\",\"M\\u1ef1c n\\u01b0\\u1edbc (cm)\":155,\"Th\\u1eddi gian \\u0111o\":\"2017-01-16\"},{\"Tr\\u1ea1m \\u0111o\":\"Ch\\u1ee3 L\\u00e1ch 17\",\"M\\u1ef1c n\\u01b0\\u1edbc (cm)\":151,\"Th\\u1eddi gian \\u0111o\":\"2017-01-17\"},{\"Tr\\u1ea1m \\u0111o\":\"Ch\\u1ee3 L\\u00e1ch 18\",\"M\\u1ef1c n\\u01b0\\u1edbc (cm)\":136,\"Th\\u1eddi gian \\u0111o\":\"2017-01-18\"},{\"Tr\\u1ea1m \\u0111o\":\"Ch\\u1ee3 L\\u00e1ch 19\",\"M\\u1ef1c n\\u01b0\\u1edbc (cm)\":133,\"Th\\u1eddi gian \\u0111o\":\"2017-01-19\"}]\n",
            "Excel Sheet to CSV:\n",
            " Trạm đo,Mực nước (cm),Thời gian đo\n",
            "Chợ Lách 1,150,2017-01-01\n",
            "Chợ Lách 7,156,2017-01-02\n",
            "Chợ Lách 3,160,2017-01-03\n",
            "Chợ Lách 4,150,2017-01-04\n",
            "Chợ Lách 5,149,2017-01-05\n",
            "Chợ Lách 6,151,2017-01-06\n",
            "Chợ Lách 7,143,2017-01-07\n",
            "Chợ Lách 8,143,2017-01-08\n",
            "Chợ Lách 9,147,2017-01-09\n",
            "Chợ Lách 15,152,2017-01-10\n",
            "Chợ Lách 11,153,2017-01-11\n",
            "Chợ Lách 12,154,2017-01-12\n",
            "Chợ Lách 13,156,2017-01-13\n",
            "Chợ Lách 14,162,2017-01-14\n",
            "Chợ Lách 15,161,2017-01-15\n",
            "Chợ Lách 16,155,2017-01-16\n",
            "Chợ Lách 17,151,2017-01-17\n",
            "Chợ Lách 18,136,2017-01-18\n",
            "Chợ Lách 19,133,2017-01-19\n",
            "\n"
          ]
        }
      ],
      "source": [
        "print('Excel Sheet to Dict:', excel_data_df.to_dict(orient='record'))\n",
        "print('Excel Sheet to JSON:', excel_data_df.to_json(orient='records'))\n",
        "print('Excel Sheet to CSV:\\n', excel_data_df.to_csv(index=False))"
      ]
    },
    {
      "cell_type": "markdown",
      "metadata": {
        "colab_type": "text",
        "id": "-nQaL6n0UTnP"
      },
      "source": [
        "### Vọc rút thông tin"
      ]
    },
    {
      "cell_type": "markdown",
      "metadata": {
        "colab_type": "text",
        "id": "yyr1uk6wX0g2"
      },
      "source": [
        "#### Dict"
      ]
    },
    {
      "cell_type": "code",
      "execution_count": 0,
      "metadata": {
        "colab": {
          "base_uri": "https://localhost:8080/",
          "height": 54
        },
        "colab_type": "code",
        "id": "LSwCxgkZUTF0",
        "outputId": "564573d9-394a-4289-8b74-bfcf8b0d59ce"
      },
      "outputs": [
        {
          "name": "stdout",
          "output_type": "stream",
          "text": [
            "[{'Trạm đo': 'Chợ Lách 1', 'Mực nước (cm)': 150, 'Thời gian đo': '2017-01-01'}, {'Trạm đo': 'Chợ Lách 7', 'Mực nước (cm)': 156, 'Thời gian đo': '2017-01-02'}, {'Trạm đo': 'Chợ Lách 3', 'Mực nước (cm)': 160, 'Thời gian đo': '2017-01-03'}, {'Trạm đo': 'Chợ Lách 4', 'Mực nước (cm)': 150, 'Thời gian đo': '2017-01-04'}, {'Trạm đo': 'Chợ Lách 5', 'Mực nước (cm)': 149, 'Thời gian đo': '2017-01-05'}, {'Trạm đo': 'Chợ Lách 6', 'Mực nước (cm)': 151, 'Thời gian đo': '2017-01-06'}, {'Trạm đo': 'Chợ Lách 7', 'Mực nước (cm)': 143, 'Thời gian đo': '2017-01-07'}, {'Trạm đo': 'Chợ Lách 8', 'Mực nước (cm)': 143, 'Thời gian đo': '2017-01-08'}, {'Trạm đo': 'Chợ Lách 9', 'Mực nước (cm)': 147, 'Thời gian đo': '2017-01-09'}, {'Trạm đo': 'Chợ Lách 15', 'Mực nước (cm)': 152, 'Thời gian đo': '2017-01-10'}, {'Trạm đo': 'Chợ Lách 11', 'Mực nước (cm)': 153, 'Thời gian đo': '2017-01-11'}, {'Trạm đo': 'Chợ Lách 12', 'Mực nước (cm)': 154, 'Thời gian đo': '2017-01-12'}, {'Trạm đo': 'Chợ Lách 13', 'Mực nước (cm)': 156, 'Thời gian đo': '2017-01-13'}, {'Trạm đo': 'Chợ Lách 14', 'Mực nước (cm)': 162, 'Thời gian đo': '2017-01-14'}, {'Trạm đo': 'Chợ Lách 15', 'Mực nước (cm)': 161, 'Thời gian đo': '2017-01-15'}, {'Trạm đo': 'Chợ Lách 16', 'Mực nước (cm)': 155, 'Thời gian đo': '2017-01-16'}, {'Trạm đo': 'Chợ Lách 17', 'Mực nước (cm)': 151, 'Thời gian đo': '2017-01-17'}, {'Trạm đo': 'Chợ Lách 18', 'Mực nước (cm)': 136, 'Thời gian đo': '2017-01-18'}, {'Trạm đo': 'Chợ Lách 19', 'Mực nước (cm)': 133, 'Thời gian đo': '2017-01-19'}]\n"
          ]
        }
      ],
      "source": [
        "cctl_giatri_mucnuoc=excel_data_df.to_dict(orient='records')\n",
        "print(cctl_giatri_mucnuoc)"
      ]
    },
    {
      "cell_type": "code",
      "execution_count": 0,
      "metadata": {
        "colab": {
          "base_uri": "https://localhost:8080/",
          "height": 51
        },
        "colab_type": "code",
        "id": "4wlQmiZEUoPN",
        "outputId": "856ec804-d2f6-49fe-defe-d324aa26a076"
      },
      "outputs": [
        {
          "name": "stdout",
          "output_type": "stream",
          "text": [
            "{'Trạm đo': 'Chợ Lách 1', 'Mực nước (cm)': 150, 'Thời gian đo': '2017-01-01'}\n",
            "Chợ Lách 1\n"
          ]
        }
      ],
      "source": [
        "print(cctl_giatri_mucnuoc[0])\n",
        "print(cctl_giatri_mucnuoc[0]['Trạm đo'])"
      ]
    },
    {
      "cell_type": "markdown",
      "metadata": {
        "colab_type": "text",
        "id": "vxzzpRT8XDp9"
      },
      "source": [
        "#### Json"
      ]
    },
    {
      "cell_type": "code",
      "execution_count": 0,
      "metadata": {
        "colab": {
          "base_uri": "https://localhost:8080/",
          "height": 54
        },
        "colab_type": "code",
        "id": "utpC5fjFWuj9",
        "outputId": "7e27a9d5-e167-4711-f82f-f9b97e876bcb"
      },
      "outputs": [
        {
          "name": "stdout",
          "output_type": "stream",
          "text": [
            "[{'Trạm đo': 'Chợ Lách 1', 'Mực nước (cm)': 150, 'Thời gian đo': '2017-01-01'}, {'Trạm đo': 'Chợ Lách 7', 'Mực nước (cm)': 156, 'Thời gian đo': '2017-01-02'}, {'Trạm đo': 'Chợ Lách 3', 'Mực nước (cm)': 160, 'Thời gian đo': '2017-01-03'}, {'Trạm đo': 'Chợ Lách 4', 'Mực nước (cm)': 150, 'Thời gian đo': '2017-01-04'}, {'Trạm đo': 'Chợ Lách 5', 'Mực nước (cm)': 149, 'Thời gian đo': '2017-01-05'}, {'Trạm đo': 'Chợ Lách 6', 'Mực nước (cm)': 151, 'Thời gian đo': '2017-01-06'}, {'Trạm đo': 'Chợ Lách 7', 'Mực nước (cm)': 143, 'Thời gian đo': '2017-01-07'}, {'Trạm đo': 'Chợ Lách 8', 'Mực nước (cm)': 143, 'Thời gian đo': '2017-01-08'}, {'Trạm đo': 'Chợ Lách 9', 'Mực nước (cm)': 147, 'Thời gian đo': '2017-01-09'}, {'Trạm đo': 'Chợ Lách 15', 'Mực nước (cm)': 152, 'Thời gian đo': '2017-01-10'}, {'Trạm đo': 'Chợ Lách 11', 'Mực nước (cm)': 153, 'Thời gian đo': '2017-01-11'}, {'Trạm đo': 'Chợ Lách 12', 'Mực nước (cm)': 154, 'Thời gian đo': '2017-01-12'}, {'Trạm đo': 'Chợ Lách 13', 'Mực nước (cm)': 156, 'Thời gian đo': '2017-01-13'}, {'Trạm đo': 'Chợ Lách 14', 'Mực nước (cm)': 162, 'Thời gian đo': '2017-01-14'}, {'Trạm đo': 'Chợ Lách 15', 'Mực nước (cm)': 161, 'Thời gian đo': '2017-01-15'}, {'Trạm đo': 'Chợ Lách 16', 'Mực nước (cm)': 155, 'Thời gian đo': '2017-01-16'}, {'Trạm đo': 'Chợ Lách 17', 'Mực nước (cm)': 151, 'Thời gian đo': '2017-01-17'}, {'Trạm đo': 'Chợ Lách 18', 'Mực nước (cm)': 136, 'Thời gian đo': '2017-01-18'}, {'Trạm đo': 'Chợ Lách 19', 'Mực nước (cm)': 133, 'Thời gian đo': '2017-01-19'}]\n"
          ]
        }
      ],
      "source": [
        "cctl_giatri_mucnuoc=json.loads(excel_data_df.to_json(orient='records'))\n",
        "print(cctl_giatri_mucnuoc)"
      ]
    },
    {
      "cell_type": "code",
      "execution_count": 0,
      "metadata": {
        "colab": {
          "base_uri": "https://localhost:8080/",
          "height": 51
        },
        "colab_type": "code",
        "id": "R8c5sV98XW-8",
        "outputId": "1012a764-ba37-456f-f703-4451ccbd7161"
      },
      "outputs": [
        {
          "name": "stdout",
          "output_type": "stream",
          "text": [
            "{'Trạm đo': 'Chợ Lách 1', 'Mực nước (cm)': 150, 'Thời gian đo': '2017-01-01'}\n",
            "Chợ Lách 1\n"
          ]
        }
      ],
      "source": [
        "obj1=cctl_giatri_mucnuoc[0]\n",
        "print(obj1)\n",
        "print(obj1['Trạm đo'])"
      ]
    },
    {
      "cell_type": "markdown",
      "metadata": {
        "colab_type": "text",
        "id": "QIbH0gP60G5J"
      },
      "source": [
        "***\n",
        "\n",
        "## Test luu vao SQLite"
      ]
    },
    {
      "cell_type": "code",
      "execution_count": 0,
      "metadata": {
        "colab": {},
        "colab_type": "code",
        "id": "3igeMrLcdBkF"
      },
      "outputs": [],
      "source": [
        "!wget https://github.com/soiqualang/Py4Sqlite3/raw/master/Py4Sqlite3.py\n",
        "!wget https://github.com/soiqualang/py_import_excel/raw/master/mucnuoc.kt\n",
        "!wget https://github.com/soiqualang/py_import_excel/raw/master/data/mucnuoc_20rec.xlsx"
      ]
    },
    {
      "cell_type": "code",
      "execution_count": 0,
      "metadata": {
        "colab": {},
        "colab_type": "code",
        "id": "_V55HYktM9yb"
      },
      "outputs": [],
      "source": [
        "import sqlite3\n",
        "import Py4Sqlite3 as db"
      ]
    },
    {
      "cell_type": "code",
      "execution_count": 0,
      "metadata": {
        "colab": {},
        "colab_type": "code",
        "id": "KJ2nKvhtRAYb"
      },
      "outputs": [],
      "source": [
        "conn=sqlite3.connect('mucnuoc.kt')"
      ]
    },
    {
      "cell_type": "markdown",
      "metadata": {
        "colab_type": "text",
        "id": "cib2hpn3Rj3M"
      },
      "source": [
        "### Test insert"
      ]
    },
    {
      "cell_type": "code",
      "execution_count": 0,
      "metadata": {
        "colab": {},
        "colab_type": "code",
        "id": "ay7onJlVRXNF"
      },
      "outputs": [],
      "source": [
        "field=['maso_loaigiatri','maso_tramdo','giatri','thoigian','ghichu','maso_nguoidung']\n",
        "value=['TV01','CCTL22','151','2017-01-14','Bình Đại','a5213aa3f426539eee278e082816e0df']\n",
        "\n",
        "db.insert_table('cctl_giatri_mucnuoc',field,value,conn)\n",
        "\n",
        "field=['maso_loaigiatri','maso_tramdo','giatri','thoigian','ghichu','maso_nguoidung']\n",
        "value=['TV01','CCTL22','156','2017-01-02','Mỹ Hóa','a5213aa3f426539eee278e082816e0df']\n",
        "\n",
        "db.insert_table('cctl_giatri_mucnuoc',field,value,conn)"
      ]
    },
    {
      "cell_type": "markdown",
      "metadata": {
        "colab_type": "text",
        "id": "QIERqt9US4mM"
      },
      "source": [
        "### Test loop table"
      ]
    },
    {
      "cell_type": "code",
      "execution_count": 0,
      "metadata": {
        "colab": {
          "base_uri": "https://localhost:8080/",
          "height": 51
        },
        "colab_type": "code",
        "id": "noyvzYkWSogr",
        "outputId": "326ef559-33da-41e7-90b3-e2f723184cc6"
      },
      "outputs": [
        {
          "name": "stdout",
          "output_type": "stream",
          "text": [
            "1 151 2017-01-14 Bình Đại\n",
            "2 156 2017-01-02 Mỹ Hóa\n"
          ]
        }
      ],
      "source": [
        "rows=db.table_to_array1('cctl_giatri_mucnuoc',conn)\n",
        "for row in rows:\n",
        "    print(row['id'],row['giatri'],row['thoigian'],row['ghichu'])"
      ]
    },
    {
      "cell_type": "markdown",
      "metadata": {
        "colab_type": "text",
        "id": "JmHp5F6SdU5c"
      },
      "source": [
        "### Loop excel to import"
      ]
    },
    {
      "cell_type": "code",
      "execution_count": 0,
      "metadata": {
        "colab": {
          "base_uri": "https://localhost:8080/",
          "height": 71
        },
        "colab_type": "code",
        "id": "S9vNsn8nda6z",
        "outputId": "ce942c70-f611-4237-e711-0e81d0f4ed6a"
      },
      "outputs": [
        {
          "name": "stdout",
          "output_type": "stream",
          "text": [
            "[{'Trạm đo': 'Chợ Lách 1', 'Mực nước (cm)': 150, 'Thời gian đo': '2017-01-01'}, {'Trạm đo': 'Chợ Lách 7', 'Mực nước (cm)': 156, 'Thời gian đo': '2017-01-02'}, {'Trạm đo': 'Chợ Lách 3', 'Mực nước (cm)': 160, 'Thời gian đo': '2017-01-03'}, {'Trạm đo': 'Chợ Lách 4', 'Mực nước (cm)': 150, 'Thời gian đo': '2017-01-04'}, {'Trạm đo': 'Chợ Lách 5', 'Mực nước (cm)': 149, 'Thời gian đo': '2017-01-05'}, {'Trạm đo': 'Chợ Lách 6', 'Mực nước (cm)': 151, 'Thời gian đo': '2017-01-06'}, {'Trạm đo': 'Chợ Lách 7', 'Mực nước (cm)': 143, 'Thời gian đo': '2017-01-07'}, {'Trạm đo': 'Chợ Lách 8', 'Mực nước (cm)': 143, 'Thời gian đo': '2017-01-08'}, {'Trạm đo': 'Chợ Lách 9', 'Mực nước (cm)': 147, 'Thời gian đo': '2017-01-09'}, {'Trạm đo': 'Chợ Lách 15', 'Mực nước (cm)': 152, 'Thời gian đo': '2017-01-10'}, {'Trạm đo': 'Chợ Lách 11', 'Mực nước (cm)': 153, 'Thời gian đo': '2017-01-11'}, {'Trạm đo': 'Chợ Lách 12', 'Mực nước (cm)': 154, 'Thời gian đo': '2017-01-12'}, {'Trạm đo': 'Chợ Lách 13', 'Mực nước (cm)': 156, 'Thời gian đo': '2017-01-13'}, {'Trạm đo': 'Chợ Lách 14', 'Mực nước (cm)': 162, 'Thời gian đo': '2017-01-14'}, {'Trạm đo': 'Chợ Lách 15', 'Mực nước (cm)': 161, 'Thời gian đo': '2017-01-15'}, {'Trạm đo': 'Chợ Lách 16', 'Mực nước (cm)': 155, 'Thời gian đo': '2017-01-16'}, {'Trạm đo': 'Chợ Lách 17', 'Mực nước (cm)': 151, 'Thời gian đo': '2017-01-17'}, {'Trạm đo': 'Chợ Lách 18', 'Mực nước (cm)': 136, 'Thời gian đo': '2017-01-18'}, {'Trạm đo': 'Chợ Lách 19', 'Mực nước (cm)': 133, 'Thời gian đo': '2017-01-19'}]\n",
            "19\n"
          ]
        }
      ],
      "source": [
        "cctl_giatri_mucnuoc=excel_data_df.to_dict(orient='records')\n",
        "print(cctl_giatri_mucnuoc)\n",
        "print(len(cctl_giatri_mucnuoc))"
      ]
    },
    {
      "cell_type": "code",
      "execution_count": 0,
      "metadata": {
        "colab": {
          "base_uri": "https://localhost:8080/",
          "height": 68
        },
        "colab_type": "code",
        "id": "V5-pf1xHddoD",
        "outputId": "392ac3da-f975-43a2-f6a9-18e3956256cb"
      },
      "outputs": [
        {
          "name": "stdout",
          "output_type": "stream",
          "text": [
            "Trạm đo Chợ Lách 1\n",
            "Mực nước (cm) 150\n",
            "Thời gian đo 2017-01-01\n"
          ]
        }
      ],
      "source": [
        "for key, value in cctl_giatri_mucnuoc[0].items():\n",
        "    print(key, value)"
      ]
    },
    {
      "cell_type": "code",
      "execution_count": 0,
      "metadata": {
        "colab": {},
        "colab_type": "code",
        "id": "KtKN_z2GgmK0"
      },
      "outputs": [],
      "source": [
        "# Config\n",
        "colsname={\n",
        "  'Trạm đo': 'maso_tramdo',\n",
        "  'Mực nước (cm)': 'giatri',\n",
        "  'Thời gian đo': 'thoigian'\n",
        "}\n",
        "\n",
        "maso_loaigiatri={}\n",
        "maso_tramdo={}\n",
        "\n",
        "# Function\n",
        "\n",
        "def prepare_record(record):\n",
        "    fields=[]\n",
        "    values=[]\n",
        "    #for key, value in cctl_giatri_mucnuoc[0].items():\n",
        "    for key, value in record.items():\n",
        "        #print(key, value)\n",
        "        fields.append(str(colsname[key]))\n",
        "        values.append(str(value))\n",
        "\n",
        "    fields.append('maso_loaigiatri')\n",
        "    values.append('TV01')\n",
        "\n",
        "    fields.append('ghichu')\n",
        "    values.append('Bình Đại')\n",
        "\n",
        "    fields.append('maso_nguoidung')\n",
        "    values.append('a5213aa3f426539eee278e082816e0df')\n",
        "\n",
        "    return {\n",
        "            'fields':fields,\n",
        "            'values':values\n",
        "            }\n",
        "\n",
        "\n",
        "# Prepare data\n",
        "for record in cctl_giatri_mucnuoc:\n",
        "    rec=prepare_record(record)\n",
        "    #print(rec['fields'])\n",
        "    #print(rec['values'])\n",
        "    db.insert_table('cctl_giatri_mucnuoc',rec['fields'],rec['values'],conn)\n"
      ]
    },
    {
      "cell_type": "code",
      "execution_count": 0,
      "metadata": {
        "colab": {},
        "colab_type": "code",
        "id": "EI72hbk4ivjM"
      },
      "outputs": [],
      "source": [
        "rows=db.table_to_array1('cctl_giatri_mucnuoc',conn)\n",
        "for row in rows:\n",
        "    print(row['id'],row['giatri'],row['thoigian'],row['ghichu'])"
      ]
    },
    {
      "cell_type": "markdown",
      "metadata": {
        "colab_type": "text",
        "id": "0iR-HShLTGFc"
      },
      "source": [
        "## Tạo dict maso_tramdo"
      ]
    },
    {
      "cell_type": "code",
      "execution_count": 0,
      "metadata": {
        "colab": {},
        "colab_type": "code",
        "id": "WRDOsgZLSDOE"
      },
      "outputs": [],
      "source": [
        "import requests"
      ]
    },
    {
      "cell_type": "code",
      "execution_count": 0,
      "metadata": {
        "colab": {},
        "colab_type": "code",
        "id": "IjuYWANNSMkF"
      },
      "outputs": [],
      "source": [
        "tramdo = requests.get('https://github.com/soiqualang/py_import_excel/raw/master/data/tramdo.json')"
      ]
    },
    {
      "cell_type": "code",
      "execution_count": 0,
      "metadata": {
        "colab": {},
        "colab_type": "code",
        "id": "WRVryBYnSVuH"
      },
      "outputs": [],
      "source": [
        "if(tramdo.ok):\n",
        "    jData = json.loads(tramdo.content)\n",
        "    print(jData);\n",
        "    print(format(len(jData)))\n",
        "else:\n",
        "    tramdo.raise_for_status()"
      ]
    },
    {
      "cell_type": "code",
      "execution_count": 20,
      "metadata": {
        "colab": {
          "base_uri": "https://localhost:8080/",
          "height": 54
        },
        "colab_type": "code",
        "id": "IQhcny7-SeIz",
        "outputId": "c27dd3e1-08cb-4edb-823d-abbcd335b588"
      },
      "outputs": [
        {
          "name": "stdout",
          "output_type": "stream",
          "text": [
            "[{'type': 'Feature', 'properties': {'id': 11, 'geom': '0101000020C18C0D00B8AF036746972141603255A0DBF33041', 'maso': 'CCTL11', 'ten': 'Phú Khánh', 'ten_tuyensong': 'Sông Hàm Luông', 'ten_donviquanly': 'Chi cục Thủy lợi Bến Tre', 'maso_xa': 29185, 'maso_huyen': 837, 'bbox': '106.448941317481,10.0458036131254,106.448941317481,10.0458036131254', 'ten_xa': ' Xã Phú Khánh', 'ten_huyen': 'Huyện Thạnh Phú', 'loai_doituong': 'Trạm đo'}, 'geometry': {'type': 'Point', 'crs': {'type': 'name', 'properties': {'name': 'urn:ogc:def:crs:EPSG::4326'}}, 'coordinates': [106.448941317481, 10.0458036131254]}}, {'type': 'Feature', 'properties': {'id': 1, 'geom': '0101000020C18C0D00F085C9F431E221410066F794F5AB3041', 'maso': 'CCTL01', 'ten': 'Bến Trại', 'ten_tuyensong': 'Sông Cổ Chiên', 'ten_donviquanly': 'Chi cục Thủy lợi Bến Tre', 'maso_xa': 29215, 'maso_huyen': 837, 'bbox': '106.536022963026,9.87919790318101,106.536022963026,9.87919790318101', 'ten_xa': ' Xã An Thuận', 'ten_huyen': 'Huyện Thạnh Phú', 'loai_doituong': 'Trạm đo'}, 'geometry': {'type': 'Point', 'crs': {'type': 'name', 'properties': {'name': 'urn:ogc:def:crs:EPSG::4326'}}, 'coordinates': [106.536022963026, 9.87919790318101]}}, {'type': 'Feature', 'properties': {'id': 15, 'geom': '0101000020C18C0D00C0D32B05D949214150A60AD68A2B3141', 'maso': 'CCTL15', 'ten': 'Vàm Nước Trong', 'ten_tuyensong': 'Sông Hàm Luông', 'ten_donviquanly': 'Chi cục Thủy lợi Bến Tre', 'maso_xa': 28930, 'maso_huyen': 833, 'bbox': '106.358774470607,10.174867545791,106.358774470607,10.174867545791', 'ten_xa': ' Xã Định Thủy', 'ten_huyen': 'Huyện Mỏ Cày Nam', 'loai_doituong': 'Trạm đo'}, 'geometry': {'type': 'Point', 'crs': {'type': 'name', 'properties': {'name': 'urn:ogc:def:crs:EPSG::4326'}}, 'coordinates': [106.358774470607, 10.174867545791]}}, {'type': 'Feature', 'properties': {'id': 14, 'geom': '0101000020C18C0D00888EE4528E69214138234ABB580F3141', 'maso': 'CCTL14', 'ten': 'Vàm Cái Quao', 'ten_tuyensong': 'Sông Hàm Luông', 'ten_donviquanly': 'Chi cục Thủy lợi Bến Tre', 'maso_xa': 28945, 'maso_huyen': 833, 'bbox': '106.395683397178,10.1095361400239,106.395683397178,10.1095361400239', 'ten_xa': ' Xã Bình Khánh Đông', 'ten_huyen': 'Huyện Mỏ Cày Nam', 'loai_doituong': 'Trạm đo'}, 'geometry': {'type': 'Point', 'crs': {'type': 'name', 'properties': {'name': 'urn:ogc:def:crs:EPSG::4326'}}, 'coordinates': [106.395683397178, 10.1095361400239]}}, {'type': 'Feature', 'properties': {'id': 5, 'geom': '0101000020C18C0D0070B515FB8A3D2141384ED1C1CCE73041', 'maso': 'CCTL05', 'ten': 'Cẩm Sơn', 'ten_tuyensong': 'Sông Cổ Chiên', 'ten_donviquanly': 'Chi cục Thủy lợi Bến Tre', 'maso_xa': 28978, 'maso_huyen': 833, 'bbox': '106.344112857092,10.0180985638559,106.344112857092,10.0180985638559', 'ten_xa': ' Xã Cầm Sơn', 'ten_huyen': 'Huyện Mỏ Cày Nam', 'loai_doituong': 'Trạm đo'}, 'geometry': {'type': 'Point', 'crs': {'type': 'name', 'properties': {'name': 'urn:ogc:def:crs:EPSG::4326'}}, 'coordinates': [106.344112857092, 10.0180985638559]}}, {'type': 'Feature', 'properties': {'id': 4, 'geom': '0101000020C18C0D00F80FE9B7B6152141C8FEB24BF5FC3041', 'maso': 'CCTL04', 'ten': 'Thành Thới B', 'ten_tuyensong': 'Sông Cổ Chiên', 'ten_donviquanly': 'Chi cục Thủy lợi Bến Tre', 'maso_xa': 28960, 'maso_huyen': 833, 'bbox': '106.297691191165,10.0671517236286,106.297691191165,10.0671517236286', 'ten_xa': ' Xã Thành Thới B', 'ten_huyen': 'Huyện Mỏ Cày Nam', 'loai_doituong': 'Trạm đo'}, 'geometry': {'type': 'Point', 'crs': {'type': 'name', 'properties': {'name': 'urn:ogc:def:crs:EPSG::4326'}}, 'coordinates': [106.297691191165, 10.0671517236286]}}, {'type': 'Feature', 'properties': {'id': 2, 'geom': '0101000020C18C0D00F0B0508B3C662141482575E247D63041', 'maso': 'CCTL02', 'ten': 'Hương Mỹ', 'ten_tuyensong': 'Sông Cổ Chiên', 'ten_donviquanly': 'Chi cục Thủy lợi Bến Tre', 'maso_xa': 28981, 'maso_huyen': 833, 'bbox': '106.391546269122,9.9774611271139,106.391546269122,9.9774611271139', 'ten_xa': ' Xã Hương Mỹ', 'ten_huyen': 'Huyện Mỏ Cày Nam', 'loai_doituong': 'Trạm đo'}, 'geometry': {'type': 'Point', 'crs': {'type': 'name', 'properties': {'name': 'urn:ogc:def:crs:EPSG::4326'}}, 'coordinates': [106.391546269122, 9.9774611271139]}}, {'type': 'Feature', 'properties': {'id': 7, 'geom': '0101000020C18C0D00088A1F235C2C224108F9A0C70ED53041', 'maso': 'CCTL07', 'ten': 'An Thuận', 'ten_tuyensong': 'Sông Hàm Luông', 'ten_donviquanly': 'Chi cục Thủy lợi Bến Tre', 'maso_xa': 29179, 'maso_huyen': 836, 'bbox': '106.622827402876,9.97410532009504,106.622827402876,9.97410532009504', 'ten_xa': ' Xã An Thủy', 'ten_huyen': 'Huyện Ba Tri', 'loai_doituong': 'Trạm đo'}, 'geometry': {'type': 'Point', 'crs': {'type': 'name', 'properties': {'name': 'urn:ogc:def:crs:EPSG::4326'}}, 'coordinates': [106.622827402876, 9.97410532009504]}}, {'type': 'Feature', 'properties': {'id': 16, 'geom': '0101000020C18C0D0088D2DEC02E322141B01C5AF4F6453141', 'maso': 'CCTL16', 'ten': 'Thanh Tân', 'ten_tuyensong': 'Sông Hàm Luông', 'ten_donviquanly': 'Chi cục Thủy lợi Bến Tre', 'maso_xa': 28906, 'maso_huyen': 838, 'bbox': '106.331241092244,10.2360741374195,106.331241092244,10.2360741374195', 'ten_xa': ' Xã Thanh Tân', 'ten_huyen': 'Huyện Mỏ Cày Bắc', 'loai_doituong': 'Trạm đo'}, 'geometry': {'type': 'Point', 'crs': {'type': 'name', 'properties': {'name': 'urn:ogc:def:crs:EPSG::4326'}}, 'coordinates': [106.331241092244, 10.2360741374195]}}, {'type': 'Feature', 'properties': {'id': 3, 'geom': '0101000020C18C0D00E8D022BBFBE3204150DA1B9CA1163141', 'maso': 'CCTL03', 'ten': 'Nhuận Phú Tân', 'ten_tuyensong': 'Sông Cổ Chiên', 'ten_donviquanly': 'Chi cục Thủy lợi Bến Tre', 'maso_xa': 28936, 'maso_huyen': 838, 'bbox': '106.239707153964,10.1266662802246,106.239707153964,10.1266662802246', 'ten_xa': ' Xã Nhuận Phú Tân', 'ten_huyen': 'Huyện Mỏ Cày Bắc', 'loai_doituong': 'Trạm đo'}, 'geometry': {'type': 'Point', 'crs': {'type': 'name', 'properties': {'name': 'urn:ogc:def:crs:EPSG::4326'}}, 'coordinates': [106.239707153964, 10.1266662802246]}}, {'type': 'Feature', 'properties': {'id': 23, 'geom': '0101000020C18C0D006E030B7BFC7A2141BC87FFE859143141', 'maso': 'CCTL23', 'ten': 'Vàm Thủ Cửu', 'ten_tuyensong': 'Sông Hàm Luông', 'ten_donviquanly': 'Chi cục Thủy lợi Bến Tre', 'maso_xa': 29041, 'maso_huyen': 834, 'bbox': '106.416064079112,10.1210789815488,106.416064079112,10.1210789815488', 'ten_xa': ' Xã Thạnh Phú Đông', 'ten_huyen': 'Huyện Giồng Trôm', 'loai_doituong': 'Trạm đo'}, 'geometry': {'type': 'Point', 'crs': {'type': 'name', 'properties': {'name': 'urn:ogc:def:crs:EPSG::4326'}}, 'coordinates': [106.416064079112, 10.1210789815488]}}, {'type': 'Feature', 'properties': {'id': 9, 'geom': '0101000020C18C0D00E0E99512626C21418816D9BE7B1D3141', 'maso': 'CCTL09', 'ten': 'Phước Long', 'ten_tuyensong': 'Sông Hàm Luông', 'ten_donviquanly': 'Chi cục Thủy lợi Bến Tre', 'maso_xa': 29020, 'maso_huyen': 834, 'bbox': '106.39905099501,10.1422499375609,106.39905099501,10.1422499375609', 'ten_xa': ' Xã Phước Long', 'ten_huyen': 'Huyện Giồng Trôm', 'loai_doituong': 'Trạm đo'}, 'geometry': {'type': 'Point', 'crs': {'type': 'name', 'properties': {'name': 'urn:ogc:def:crs:EPSG::4326'}}, 'coordinates': [106.39905099501, 10.1422499375609]}}, {'type': 'Feature', 'properties': {'id': 8, 'geom': '0101000020C18C0D00B069DE51D1A12141C8293A5248F83041', 'maso': 'CCTL08', 'ten': 'Sơn Đốc', 'ten_tuyensong': 'Sông Hàm Luông', 'ten_donviquanly': 'Chi cục Thủy lợi Bến Tre', 'maso_xa': 29047, 'maso_huyen': 834, 'bbox': '106.461273897844,10.0560182702988,106.461273897844,10.0560182702988', 'ten_xa': ' Xã Hưng Lễ', 'ten_huyen': 'Huyện Giồng Trôm', 'loai_doituong': 'Trạm đo'}, 'geometry': {'type': 'Point', 'crs': {'type': 'name', 'properties': {'name': 'urn:ogc:def:crs:EPSG::4326'}}, 'coordinates': [106.461273897844, 10.0560182702988]}}, {'type': 'Feature', 'properties': {'id': 10, 'geom': '0101000020C18C0D00E8B7AFE3474A214170C5FE5234423141', 'maso': 'CCTL10', 'ten': 'Mỹ Hóa', 'ten_tuyensong': 'Sông Hàm Luông', 'ten_donviquanly': 'Chi cục Thủy lợi Bến Tre', 'maso_xa': 28780, 'maso_huyen': 829, 'bbox': '106.359380121597,10.2273192755097,106.359380121597,10.2273192755097', 'ten_xa': 'Phường 7', 'ten_huyen': 'Thành phố Bến Tre', 'loai_doituong': 'Trạm đo'}, 'geometry': {'type': 'Point', 'crs': {'type': 'name', 'properties': {'name': 'urn:ogc:def:crs:EPSG::4326'}}, 'coordinates': [106.359380121597, 10.2273192755097]}}, {'type': 'Feature', 'properties': {'id': 22, 'geom': '0101000020C18C0D00D8F97E6A25832041B8490C4246583141', 'maso': 'CCTL22', 'ten': 'Chợ Lách', 'ten_tuyensong': 'Sông Cửa Đại', 'ten_donviquanly': 'Chi cục Thủy lợi Bến Tre', 'maso_xa': 28870, 'maso_huyen': 832, 'bbox': '106.126779669953,10.2787555334751,106.126779669953,10.2787555334751', 'ten_xa': 'Thị trấn Chợ Lách', 'ten_huyen': 'Huyện Chợ Lách', 'loai_doituong': 'Trạm đo'}, 'geometry': {'type': 'Point', 'crs': {'type': 'name', 'properties': {'name': 'urn:ogc:def:crs:EPSG::4326'}}, 'coordinates': [106.126779669953, 10.2787555334751]}}, {'type': 'Feature', 'properties': {'id': 13, 'geom': '0101000020C18C0D0060E5D062569C2041E07A148E4A523141', 'maso': 'CCTL13', 'ten': 'Hòa Nghĩa', 'ten_tuyensong': 'Sông Hàm Luông', 'ten_donviquanly': 'Chi cục Thủy lợi Bến Tre', 'maso_xa': 28882, 'maso_huyen': 832, 'bbox': '106.156199620627,10.2648711012288,106.156199620627,10.2648711012288', 'ten_xa': ' Xã Hòa Nghĩa', 'ten_huyen': 'Huyện Chợ Lách', 'loai_doituong': 'Trạm đo'}, 'geometry': {'type': 'Point', 'crs': {'type': 'name', 'properties': {'name': 'urn:ogc:def:crs:EPSG::4326'}}, 'coordinates': [106.156199620627, 10.2648711012288]}}, {'type': 'Feature', 'properties': {'id': 12, 'geom': '0101000020C18C0D001804560E03D8204140A4DF3EA3463141', 'maso': 'CCTL12', 'ten': 'Vàm Mơn', 'ten_tuyensong': 'Sông Hàm Luông', 'ten_donviquanly': 'Chi cục Thủy lợi Bến Tre', 'maso_xa': 28888, 'maso_huyen': 832, 'bbox': '106.225889322309,10.2378030011014,106.225889322309,10.2378030011014', 'ten_xa': ' Xã Phú Sơn', 'ten_huyen': 'Huyện Chợ Lách', 'loai_doituong': 'Trạm đo'}, 'geometry': {'type': 'Point', 'crs': {'type': 'name', 'properties': {'name': 'urn:ogc:def:crs:EPSG::4326'}}, 'coordinates': [106.225889322309, 10.2378030011014]}}, {'type': 'Feature', 'properties': {'id': 19, 'geom': '0101000020C18C0D00A0CDAA8F84812141806ABC54B2673141', 'maso': 'CCTL19', 'ten': 'Quới Sơn', 'ten_tuyensong': 'Sông Cửa Đại', 'ten_donviquanly': 'Chi cục Thủy lợi Bến Tre', 'maso_xa': 28807, 'maso_huyen': 831, 'bbox': '106.424098911537,10.3139685971953,106.424098911537,10.3139685971953', 'ten_xa': ' Xã Quới Sơn', 'ten_huyen': 'Huyện Châu Thành', 'loai_doituong': 'Trạm đo'}, 'geometry': {'type': 'Point', 'crs': {'type': 'name', 'properties': {'name': 'urn:ogc:def:crs:EPSG::4326'}}, 'coordinates': [106.424098911537, 10.3139685971953]}}, {'type': 'Feature', 'properties': {'id': 18, 'geom': '0101000020C18C0D00B8F3FD1497962141206C781AF45F3141', 'maso': 'CCTL18', 'ten': 'Giao Hòa', 'ten_tuyensong': 'Sông Cửa Đại', 'ten_donviquanly': 'Chi cục Thủy lợi Bến Tre', 'maso_xa': 28816, 'maso_huyen': 831, 'bbox': '106.448685341415,10.2959949113424,106.448685341415,10.2959949113424', 'ten_xa': ' Xã Giao Hòa', 'ten_huyen': 'Huyện Châu Thành', 'loai_doituong': 'Trạm đo'}, 'geometry': {'type': 'Point', 'crs': {'type': 'name', 'properties': {'name': 'urn:ogc:def:crs:EPSG::4326'}}, 'coordinates': [106.448685341415, 10.2959949113424]}}, {'type': 'Feature', 'properties': {'id': 6, 'geom': '0101000020C18C0D00806132D5530D214150DA1B2CFF523141', 'maso': 'CCTL06', 'ten': 'An Hiệp', 'ten_tuyensong': 'Sông Hàm Luông', 'ten_donviquanly': 'Chi cục Thủy lợi Bến Tre', 'maso_xa': 28855, 'maso_huyen': 831, 'bbox': '106.288231220824,10.2663120388616,106.288231220824,10.2663120388616', 'ten_xa': ' Xã An Hiệp', 'ten_huyen': 'Huyện Châu Thành', 'loai_doituong': 'Trạm đo'}, 'geometry': {'type': 'Point', 'crs': {'type': 'name', 'properties': {'name': 'urn:ogc:def:crs:EPSG::4326'}}, 'coordinates': [106.288231220824, 10.2663120388616]}}, {'type': 'Feature', 'properties': {'id': 21, 'geom': '0101000020C18C0D00D88173C60895214128F6974D77503141', 'maso': 'CCTL21', 'ten': 'Long Hòa', 'ten_tuyensong': 'Sông Cửa Đại', 'ten_donviquanly': 'Chi cục Thủy lợi Bến Tre', 'maso_xa': 29059, 'maso_huyen': 835, 'bbox': '106.446788626343,10.2601528996944,106.446788626343,10.2601528996944', 'ten_xa': ' Xã Long Hòa', 'ten_huyen': 'Huyện Bình Đại', 'loai_doituong': 'Trạm đo'}, 'geometry': {'type': 'Point', 'crs': {'type': 'name', 'properties': {'name': 'urn:ogc:def:crs:EPSG::4326'}}, 'coordinates': [106.446788626343, 10.2601528996944]}}, {'type': 'Feature', 'properties': {'id': 20, 'geom': '0101000020C18C0D00B0EA7335FB19224160C3D36BD4483141', 'maso': 'CCTL20', 'ten': 'Lộc Thuận', 'ten_tuyensong': 'Sông Cửa Đại', 'ten_donviquanly': 'Chi cục Thủy lợi Bến Tre', 'maso_xa': 29077, 'maso_huyen': 835, 'bbox': '106.602078630896,10.2421088721611,106.602078630896,10.2421088721611', 'ten_xa': ' Xã Lộc Thuận', 'ten_huyen': 'Huyện Bình Đại', 'loai_doituong': 'Trạm đo'}, 'geometry': {'type': 'Point', 'crs': {'type': 'name', 'properties': {'name': 'urn:ogc:def:crs:EPSG::4326'}}, 'coordinates': [106.602078630896, 10.2421088721611]}}, {'type': 'Feature', 'properties': {'id': 17, 'geom': '0101000020C18C0D0070CE8892D8742241684469EFB4373141', 'maso': 'CCTL17', 'ten': 'Bình Đại', 'ten_tuyensong': 'Sông Cửa Đại', 'ten_donviquanly': 'Chi cục Thủy lợi Bến Tre', 'maso_xa': 29092, 'maso_huyen': 835, 'bbox': '106.708117977334,10.2021846539236,106.708117977334,10.2021846539236', 'ten_xa': ' Xã Bình Thắng', 'ten_huyen': 'Huyện Bình Đại', 'loai_doituong': 'Trạm đo'}, 'geometry': {'type': 'Point', 'crs': {'type': 'name', 'properties': {'name': 'urn:ogc:def:crs:EPSG::4326'}}, 'coordinates': [106.708117977334, 10.2021846539236]}}]\n"
          ]
        }
      ],
      "source": [
        "features=jData['features']\n",
        "print(features)"
      ]
    },
    {
      "cell_type": "code",
      "execution_count": 22,
      "metadata": {
        "colab": {
          "base_uri": "https://localhost:8080/",
          "height": 51
        },
        "colab_type": "code",
        "id": "Sy2qwXnFShxz",
        "outputId": "db6a3c3b-2d4d-443c-c0a4-838f0be752b2"
      },
      "outputs": [
        {
          "name": "stdout",
          "output_type": "stream",
          "text": [
            "23\n",
            "Phú Khánh\n"
          ]
        }
      ],
      "source": [
        "print(len(features))\n",
        "print(features[0]['properties']['ten'])"
      ]
    },
    {
      "cell_type": "code",
      "execution_count": 25,
      "metadata": {
        "colab": {
          "base_uri": "https://localhost:8080/",
          "height": 54
        },
        "colab_type": "code",
        "id": "ASpceNreS6SF",
        "outputId": "f643bdd8-7690-4ece-ab36-6f98279b5d02"
      },
      "outputs": [
        {
          "name": "stdout",
          "output_type": "stream",
          "text": [
            "{'Phú Khánh': 'CCTL11', 'Bến Trại': 'CCTL01', 'Vàm Nước Trong': 'CCTL15', 'Vàm Cái Quao': 'CCTL14', 'Cẩm Sơn': 'CCTL05', 'Thành Thới B': 'CCTL04', 'Hương Mỹ': 'CCTL02', 'An Thuận': 'CCTL07', 'Thanh Tân': 'CCTL16', 'Nhuận Phú Tân': 'CCTL03', 'Vàm Thủ Cửu': 'CCTL23', 'Phước Long': 'CCTL09', 'Sơn Đốc': 'CCTL08', 'Mỹ Hóa': 'CCTL10', 'Chợ Lách': 'CCTL22', 'Hòa Nghĩa': 'CCTL13', 'Vàm Mơn': 'CCTL12', 'Quới Sơn': 'CCTL19', 'Giao Hòa': 'CCTL18', 'An Hiệp': 'CCTL06', 'Long Hòa': 'CCTL21', 'Lộc Thuận': 'CCTL20', 'Bình Đại': 'CCTL17'}\n"
          ]
        }
      ],
      "source": [
        "for tramdo in features:\n",
        "    #print(tramdo['properties']['ten'])\n",
        "    #print(tramdo['properties']['maso'])\n",
        "    maso_tramdo.update( {tramdo['properties']['ten'] : tramdo['properties']['maso']} )\n",
        "\n",
        "print(maso_tramdo)"
      ]
    },
    {
      "cell_type": "code",
      "execution_count": 0,
      "metadata": {
        "colab": {},
        "colab_type": "code",
        "id": "16Aug9wRTR25"
      },
      "outputs": [],
      "source": [
        "def makeDict(data_url):\n",
        "    datadict={}\n",
        "    tramdo = requests.get(data_url)\n",
        "    if(tramdo.ok):\n",
        "        jData = json.loads(tramdo.content)\n",
        "    else:\n",
        "        tramdo.raise_for_status()\n",
        "\n",
        "    features=jData['features']\n",
        "    for tramdo in features:\n",
        "        datadict.update( {tramdo['properties']['ten'] : tramdo['properties']['maso']} )\n",
        "\n",
        "    return datadict"
      ]
    },
    {
      "cell_type": "code",
      "execution_count": 32,
      "metadata": {
        "colab": {
          "base_uri": "https://localhost:8080/",
          "height": 54
        },
        "colab_type": "code",
        "id": "zx0Bu1mLVUVj",
        "outputId": "6d09cdaa-4e9f-433f-9167-34f292dbee5a"
      },
      "outputs": [
        {
          "name": "stdout",
          "output_type": "stream",
          "text": [
            "{'Phú Khánh': 'CCTL11', 'Bến Trại': 'CCTL01', 'Vàm Nước Trong': 'CCTL15', 'Vàm Cái Quao': 'CCTL14', 'Cẩm Sơn': 'CCTL05', 'Thành Thới B': 'CCTL04', 'Hương Mỹ': 'CCTL02', 'An Thuận': 'CCTL07', 'Thanh Tân': 'CCTL16', 'Nhuận Phú Tân': 'CCTL03', 'Vàm Thủ Cửu': 'CCTL23', 'Phước Long': 'CCTL09', 'Sơn Đốc': 'CCTL08', 'Mỹ Hóa': 'CCTL10', 'Chợ Lách': 'CCTL22', 'Hòa Nghĩa': 'CCTL13', 'Vàm Mơn': 'CCTL12', 'Quới Sơn': 'CCTL19', 'Giao Hòa': 'CCTL18', 'An Hiệp': 'CCTL06', 'Long Hòa': 'CCTL21', 'Lộc Thuận': 'CCTL20', 'Bình Đại': 'CCTL17'}\n"
          ]
        }
      ],
      "source": [
        "t1=makeDict('https://github.com/soiqualang/py_import_excel/raw/master/data/tramdo.json')\n",
        "print(t1)"
      ]
    },
    {
      "cell_type": "code",
      "execution_count": 0,
      "metadata": {
        "colab": {},
        "colab_type": "code",
        "id": "l7tVvG75VlhU"
      },
      "outputs": [],
      "source": [
        ""
      ]
    },
    {
      "cell_type": "markdown",
      "metadata": {
        "colab_type": "text",
        "id": "0X8L0mzOkyw1"
      },
      "source": [
        "# Full test"
      ]
    },
    {
      "cell_type": "code",
      "execution_count": 0,
      "metadata": {
        "colab": {},
        "colab_type": "code",
        "id": "lailV64JPYvX"
      },
      "outputs": [],
      "source": [
        "!wget https://github.com/soiqualang/Py4Sqlite3/raw/master/Py4Sqlite3.py\n",
        "!wget https://github.com/soiqualang/py_import_excel/raw/master/mucnuoc.kt\n",
        "!wget https://github.com/soiqualang/py_import_excel/raw/master/data/mucnuoc_20rec.xlsx\n",
        "!wget https://github.com/soiqualang/py_import_excel/raw/master/data/tramdo.json"
      ]
    },
    {
      "cell_type": "code",
      "execution_count": 0,
      "metadata": {
        "colab": {},
        "colab_type": "code",
        "id": "TimGQ_4tPOYt"
      },
      "outputs": [],
      "source": [
        "import sqlite3\n",
        "import Py4Sqlite3 as db\n",
        "import pandas\n",
        "import json\n",
        "import requests\n",
        "import datetime\n",
        "\n",
        "conn=sqlite3.connect('mucnuoc.kt')"
      ]
    },
    {
      "cell_type": "code",
      "execution_count": 210,
      "metadata": {
        "colab": {
          "base_uri": "https://localhost:8080/",
          "height": 357
        },
        "colab_type": "code",
        "id": "ogxaSSSRiz3S",
        "outputId": "fd0ab93c-8017-4df1-83a2-0afb528f8f67"
      },
      "outputs": [
        {
          "name": "stdout",
          "output_type": "stream",
          "text": [
            "           Trạm đo  Mực nước (cm)         Thời gian đo\n",
            "0         Chợ Lách            150           2017-01-01\n",
            "1         Long Hòa            156           2017-01-02\n",
            "2         Chợ Lách            160  2017-01-03 00:00:00\n",
            "3         Chợ Lách            150           2017-01-04\n",
            "4   Vàm Nước Trong            149           2017-01-05\n",
            "5   Vàm Nước Trong            151           2017-01-06\n",
            "6   Vàm Nước Trong            143           2017-01-07\n",
            "7   Vàm Nước Trong            143           2017-01-08\n",
            "8         Bình Đại            147           2017-01-09\n",
            "9         Bình Đại            152           2017-01-10\n",
            "10        Chợ Lách            153  2017-11-01 00:00:00\n",
            "11        Chợ Lách            154           2017-01-12\n",
            "12        Chợ Lách            156           2017-01-13\n",
            "13        Quới Sơn            162           2017-01-14\n",
            "14        Quới Sơn            161           2017-01-15\n",
            "15        Quới Sơn            155           16-01-2011\n",
            "16        Quới Sơn            151           2017-01-17\n",
            "17        Quới Sơn            136           2017-01-18\n",
            "18        Quới Sơn            133           2017-01-19\n"
          ]
        }
      ],
      "source": [
        "excel_data_df = pandas.read_excel('mucnuoc_20rec_date_err.xlsx', sheet_name='Sheet1', usecols=['Trạm đo', 'Mực nước (cm)', 'Thời gian đo'])\n",
        "print(excel_data_df)"
      ]
    },
    {
      "cell_type": "code",
      "execution_count": 0,
      "metadata": {
        "colab": {},
        "colab_type": "code",
        "id": "8PPvgpWuk3mL"
      },
      "outputs": [],
      "source": [
        "cctl_giatri_mucnuoc=excel_data_df.to_dict(orient='records')"
      ]
    },
    {
      "cell_type": "code",
      "execution_count": 0,
      "metadata": {
        "colab": {},
        "colab_type": "code",
        "id": "dAgVqfcqk77q"
      },
      "outputs": [],
      "source": [
        "\n",
        "# Function\n",
        "\n",
        "def truncate_tbl(table,conn):\n",
        "    with conn:\n",
        "        cur = conn.cursor()\n",
        "        sql=\"DELETE FROM \"+table\n",
        "        #print(sql)\n",
        "        cur.execute(sql)\n",
        "        cur.close()\n",
        "\n",
        "def makeDict(data_url):\n",
        "    datadict={}\n",
        "    tramdo = requests.get(data_url)\n",
        "    if(tramdo.ok):\n",
        "        jData = json.loads(tramdo.content)\n",
        "    else:\n",
        "        tramdo.raise_for_status()\n",
        "\n",
        "    features=jData['features']\n",
        "    for tramdo in features:\n",
        "        datadict.update( {tramdo['properties']['ten'] : tramdo['properties']['maso']} )\n",
        "\n",
        "    return datadict\n",
        "\n",
        "def prepare_cctl_giatri_mucnuoc(record,colsname,maso_tramdo,errs,recid):\n",
        "    fields=[]\n",
        "    values=[]\n",
        "    #for key, value in cctl_giatri_mucnuoc[0].items():\n",
        "    #Cần thứ tự dòng chỗ này\n",
        "    #recid=3\n",
        "    for key, value in record.items():\n",
        "        #print(key, value)\n",
        "        key=str(colsname[key])\n",
        "        value=str(value)\n",
        "        if(key=='maso_tramdo'):\n",
        "            #value=maso_tramdo[value]\n",
        "            value=get_maso(maso_tramdo,value,recid,errs)\n",
        "        if(key=='thoigian'):\n",
        "            #print(value)\n",
        "            value=check_date(value,recid,errs)\n",
        "        \n",
        "        fields.append(key)\n",
        "        values.append(value)\n",
        "\n",
        "    fields.append('maso_loaigiatri')\n",
        "    values.append('TV01')\n",
        "\n",
        "    #Thống nhất ghichu là tên file excel để có thể xóa dữ liệu về sau\n",
        "    fields.append('ghichu')\n",
        "    values.append('mucnuoc_20rec_haha.xlsx')\n",
        "\n",
        "    fields.append('maso_nguoidung')\n",
        "    values.append('a5213aa3f426539eee278e082816e0df')\n",
        "\n",
        "    return {\n",
        "            'fields':fields,\n",
        "            'values':values\n",
        "            }\n",
        "\n",
        "## Các hàm băt lỗi\n",
        "def get_maso(dict,key,rowid,errs):\n",
        "    try:\n",
        "        return dict[key]\n",
        "    except:\n",
        "        errs.append('Lỗi dòng %s. Không tim thấy mã số.' % rowid)\n",
        "\n",
        "def check_date(datestr,rowid,errs):\n",
        "    try:\n",
        "        datetime.datetime.strptime(date_text, '%Y-%m-%d')\n",
        "        #print(datestr)\n",
        "        return datestr\n",
        "    except:\n",
        "        errs.append('Lỗi dòng %s. Định dạng ngày tháng phải là YYYY-MM-DD' % rowid)\n"
      ]
    },
    {
      "cell_type": "code",
      "execution_count": 0,
      "metadata": {
        "colab": {},
        "colab_type": "code",
        "id": "14NfxSUXeWij"
      },
      "outputs": [],
      "source": [
        "# Config\n",
        "colsname={\n",
        "  'Trạm đo': 'maso_tramdo',\n",
        "  'Mực nước (cm)': 'giatri',\n",
        "  'Thời gian đo': 'thoigian'\n",
        "}\n",
        "maso_tramdo={}\n",
        "maso_tramdo=makeDict('https://github.com/soiqualang/py_import_excel/raw/master/data/tramdo.json')\n"
      ]
    },
    {
      "cell_type": "code",
      "execution_count": 0,
      "metadata": {
        "colab": {},
        "colab_type": "code",
        "id": "MslA8C6EeHJ8"
      },
      "outputs": [],
      "source": [
        "errs=[]\n",
        "# Prepare data\n",
        "for index,record in enumerate(cctl_giatri_mucnuoc):\n",
        "    rec=prepare_cctl_giatri_mucnuoc(record,colsname,maso_tramdo,errs,index)\n",
        "    #print(index)\n",
        "    #print(rec['fields'])\n",
        "    #print(rec['values'])\n",
        "    #db.insert_table('cctl_giatri_mucnuoc',rec['fields'],rec['values'],conn)"
      ]
    },
    {
      "cell_type": "code",
      "execution_count": 214,
      "metadata": {
        "colab": {
          "base_uri": "https://localhost:8080/",
          "height": 34
        },
        "colab_type": "code",
        "id": "JHdYbbSJtexE",
        "outputId": "24f700f4-923b-4b5e-93a8-f0d12f5b27e5"
      },
      "outputs": [
        {
          "name": "stdout",
          "output_type": "stream",
          "text": [
            "[]\n"
          ]
        }
      ],
      "source": [
        "print(errs)"
      ]
    },
    {
      "cell_type": "code",
      "execution_count": 0,
      "metadata": {
        "colab": {},
        "colab_type": "code",
        "id": "mfrQ-QGvnGpF"
      },
      "outputs": [],
      "source": [
        "rows=db.table_to_array1('cctl_giatri_mucnuoc',conn)\n",
        "for row in rows:\n",
        "    print(row['id'],row['giatri'],row['thoigian'],row['ghichu'],row['maso_tramdo'])"
      ]
    },
    {
      "cell_type": "code",
      "execution_count": 0,
      "metadata": {
        "colab": {},
        "colab_type": "code",
        "id": "GfZCe9-jQFsK"
      },
      "outputs": [],
      "source": [
        "truncate_tbl('cctl_giatri_mucnuoc',conn)"
      ]
    },
    {
      "cell_type": "code",
      "execution_count": 0,
      "metadata": {
        "colab": {},
        "colab_type": "code",
        "id": "7OASBq20d5iC"
      },
      "outputs": [],
      "source": [
        ""
      ]
    },
    {
      "cell_type": "markdown",
      "metadata": {
        "colab_type": "text",
        "id": "fg_ayUnbfQXb"
      },
      "source": [
        "## Check lỗi\n",
        "\n",
        "https://vietjack.com/python/string_trong_python.jsp\n",
        "\n",
        "https://stackoverflow.com/questions/16870663/how-do-i-validate-a-date-string-format-in-python"
      ]
    },
    {
      "cell_type": "code",
      "execution_count": 0,
      "metadata": {
        "colab": {},
        "colab_type": "code",
        "id": "Zdts7eoJff5x"
      },
      "outputs": [],
      "source": [
        "#test thử check mã số có tồn tại\n",
        "try:\n",
        "  maso_tramdo['Mỹ Hóa111']\n",
        "except:\n",
        "  err_info('maso',errs,3)\n",
        "\n",
        "#check format date\n",
        "date_text='2017/01/01'\n",
        "try:\n",
        "  datetime.datetime.strptime(date_text, '%Y-%m-%d')\n",
        "except:\n",
        "  err_info('date',errs,5)"
      ]
    },
    {
      "cell_type": "code",
      "execution_count": 0,
      "metadata": {
        "colab": {},
        "colab_type": "code",
        "id": "KgaEG5AhgT3M"
      },
      "outputs": [],
      "source": [
        "## Hàm băt lỗi\n",
        "def get_maso(dict,key,rowid,errs):\n",
        "    try:\n",
        "        return dict[key]\n",
        "    except:\n",
        "        errs.append('Lỗi dòng %s. Không tim thấy mã số.' % rowid)\n",
        "\n",
        "def check_date(datestr,rowid,errs):\n",
        "    try:\n",
        "        datetime.datetime.strptime(date_text, '%Y-%m-%d')\n",
        "        return datestr\n",
        "    except:\n",
        "        errs.append('Lỗi dòng %s. Định dạng ngày tháng phải là YYYY-MM-DD' % rowid)\n"
      ]
    },
    {
      "cell_type": "code",
      "execution_count": 0,
      "metadata": {
        "colab": {},
        "colab_type": "code",
        "id": "-H5-HcDoleId"
      },
      "outputs": [],
      "source": [
        "errs=[]\n",
        "\n",
        "ms1=get_maso(maso_tramdo,'Mỹ Hóa111',3,errs)\n",
        "\n",
        "date_text='2017-01-19'\n",
        "dt1=check_date(date_text,4,errs)"
      ]
    },
    {
      "cell_type": "code",
      "execution_count": 193,
      "metadata": {
        "colab": {
          "base_uri": "https://localhost:8080/",
          "height": 34
        },
        "colab_type": "code",
        "id": "5JsXslLKfvH6",
        "outputId": "5f997de7-ccad-41a6-f71e-d99506128edc"
      },
      "outputs": [
        {
          "name": "stdout",
          "output_type": "stream",
          "text": [
            "['Lỗi dòng 3. Không tim thấy mã số.']\n"
          ]
        }
      ],
      "source": [
        "print(errs)"
      ]
    },
    {
      "cell_type": "code",
      "execution_count": 194,
      "metadata": {
        "colab": {
          "base_uri": "https://localhost:8080/",
          "height": 51
        },
        "colab_type": "code",
        "id": "XGZqwamsiTUE",
        "outputId": "927f6b1a-2e0c-47ad-bbcc-e05c6874a652"
      },
      "outputs": [
        {
          "name": "stdout",
          "output_type": "stream",
          "text": [
            "None\n",
            "2017-01-19\n"
          ]
        }
      ],
      "source": [
        "print(ms1)\n",
        "print(dt1)"
      ]
    },
    {
      "cell_type": "code",
      "execution_count": 0,
      "metadata": {
        "colab": {},
        "colab_type": "code",
        "id": "64zxc9Udoy87"
      },
      "outputs": [],
      "source": [
        ""
      ]
    }
  ]
}