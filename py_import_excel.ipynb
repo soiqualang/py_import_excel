{
  "nbformat": 4,
  "nbformat_minor": 0,
  "metadata": {
    "colab": {
      "name": "py_import_excel.ipynb",
      "provenance": [],
      "collapsed_sections": [],
      "authorship_tag": "ABX9TyPF2HJsL0fwnRo4/wvrrm9u",
      "include_colab_link": true
    },
    "kernelspec": {
      "name": "python3",
      "display_name": "Python 3"
    }
  },
  "cells": [
    {
      "cell_type": "markdown",
      "metadata": {
        "id": "view-in-github",
        "colab_type": "text"
      },
      "source": [
        "<a href=\"https://colab.research.google.com/github/soiqualang/py_import_excel/blob/master/py_import_excel.ipynb\" target=\"_parent\"><img src=\"https://colab.research.google.com/assets/colab-badge.svg\" alt=\"Open In Colab\"/></a>"
      ]
    },
    {
      "cell_type": "markdown",
      "metadata": {
        "id": "gJaCPAsPQ2Zq",
        "colab_type": "text"
      },
      "source": [
        "https://www.journaldev.com/33306/pandas-read_excel-reading-excel-file-in-python"
      ]
    },
    {
      "cell_type": "code",
      "metadata": {
        "id": "Lu7CyJoqNz2e",
        "colab_type": "code",
        "colab": {}
      },
      "source": [
        "!rm -r sample_data/"
      ],
      "execution_count": 0,
      "outputs": []
    },
    {
      "cell_type": "code",
      "metadata": {
        "id": "hm-4p7M9F0mG",
        "colab_type": "code",
        "colab": {}
      },
      "source": [
        "!wget https://github.com/soiqualang/py_import_excel/raw/master/data/mucnuoc_20rec.xlsx"
      ],
      "execution_count": 0,
      "outputs": []
    },
    {
      "cell_type": "code",
      "metadata": {
        "id": "tymioiiZOUYq",
        "colab_type": "code",
        "colab": {}
      },
      "source": [
        "import pandas\n",
        "import json"
      ],
      "execution_count": 0,
      "outputs": []
    },
    {
      "cell_type": "code",
      "metadata": {
        "id": "-mfxJRaYOcdg",
        "colab_type": "code",
        "outputId": "4e403f38-88d0-4b6a-bfe8-b150981032a7",
        "colab": {
          "base_uri": "https://localhost:8080/",
          "height": 357
        }
      },
      "source": [
        "excel_data_df = pandas.read_excel('mucnuoc_20rec.xlsx', sheet_name='Sheet1', usecols=['Trạm đo', 'Mực nước (cm)', 'Thời gian đo'])\n",
        "print(excel_data_df)"
      ],
      "execution_count": 0,
      "outputs": [
        {
          "output_type": "stream",
          "text": [
            "        Trạm đo  Mực nước (cm) Thời gian đo\n",
            "0    Chợ Lách 1            150   2017-01-01\n",
            "1    Chợ Lách 7            156   2017-01-02\n",
            "2    Chợ Lách 3            160   2017-01-03\n",
            "3    Chợ Lách 4            150   2017-01-04\n",
            "4    Chợ Lách 5            149   2017-01-05\n",
            "5    Chợ Lách 6            151   2017-01-06\n",
            "6    Chợ Lách 7            143   2017-01-07\n",
            "7    Chợ Lách 8            143   2017-01-08\n",
            "8    Chợ Lách 9            147   2017-01-09\n",
            "9   Chợ Lách 15            152   2017-01-10\n",
            "10  Chợ Lách 11            153   2017-01-11\n",
            "11  Chợ Lách 12            154   2017-01-12\n",
            "12  Chợ Lách 13            156   2017-01-13\n",
            "13  Chợ Lách 14            162   2017-01-14\n",
            "14  Chợ Lách 15            161   2017-01-15\n",
            "15  Chợ Lách 16            155   2017-01-16\n",
            "16  Chợ Lách 17            151   2017-01-17\n",
            "17  Chợ Lách 18            136   2017-01-18\n",
            "18  Chợ Lách 19            133   2017-01-19\n"
          ],
          "name": "stdout"
        }
      ]
    },
    {
      "cell_type": "code",
      "metadata": {
        "id": "zUYZTEY0OsjQ",
        "colab_type": "code",
        "outputId": "64bb1fba-522d-44a0-b5b5-bb7996e91367",
        "colab": {
          "base_uri": "https://localhost:8080/",
          "height": 54
        }
      },
      "source": [
        "print('Excel Sheet to JSON:', excel_data_df.to_json(orient='records'))"
      ],
      "execution_count": 0,
      "outputs": [
        {
          "output_type": "stream",
          "text": [
            "Excel Sheet to JSON: [{\"Tr\\u1ea1m \\u0111o\":\"Ch\\u1ee3 L\\u00e1ch 1\",\"M\\u1ef1c n\\u01b0\\u1edbc (cm)\":150,\"Th\\u1eddi gian \\u0111o\":\"2017-01-01\"},{\"Tr\\u1ea1m \\u0111o\":\"Ch\\u1ee3 L\\u00e1ch 7\",\"M\\u1ef1c n\\u01b0\\u1edbc (cm)\":156,\"Th\\u1eddi gian \\u0111o\":\"2017-01-02\"},{\"Tr\\u1ea1m \\u0111o\":\"Ch\\u1ee3 L\\u00e1ch 3\",\"M\\u1ef1c n\\u01b0\\u1edbc (cm)\":160,\"Th\\u1eddi gian \\u0111o\":\"2017-01-03\"},{\"Tr\\u1ea1m \\u0111o\":\"Ch\\u1ee3 L\\u00e1ch 4\",\"M\\u1ef1c n\\u01b0\\u1edbc (cm)\":150,\"Th\\u1eddi gian \\u0111o\":\"2017-01-04\"},{\"Tr\\u1ea1m \\u0111o\":\"Ch\\u1ee3 L\\u00e1ch 5\",\"M\\u1ef1c n\\u01b0\\u1edbc (cm)\":149,\"Th\\u1eddi gian \\u0111o\":\"2017-01-05\"},{\"Tr\\u1ea1m \\u0111o\":\"Ch\\u1ee3 L\\u00e1ch 6\",\"M\\u1ef1c n\\u01b0\\u1edbc (cm)\":151,\"Th\\u1eddi gian \\u0111o\":\"2017-01-06\"},{\"Tr\\u1ea1m \\u0111o\":\"Ch\\u1ee3 L\\u00e1ch 7\",\"M\\u1ef1c n\\u01b0\\u1edbc (cm)\":143,\"Th\\u1eddi gian \\u0111o\":\"2017-01-07\"},{\"Tr\\u1ea1m \\u0111o\":\"Ch\\u1ee3 L\\u00e1ch 8\",\"M\\u1ef1c n\\u01b0\\u1edbc (cm)\":143,\"Th\\u1eddi gian \\u0111o\":\"2017-01-08\"},{\"Tr\\u1ea1m \\u0111o\":\"Ch\\u1ee3 L\\u00e1ch 9\",\"M\\u1ef1c n\\u01b0\\u1edbc (cm)\":147,\"Th\\u1eddi gian \\u0111o\":\"2017-01-09\"},{\"Tr\\u1ea1m \\u0111o\":\"Ch\\u1ee3 L\\u00e1ch 15\",\"M\\u1ef1c n\\u01b0\\u1edbc (cm)\":152,\"Th\\u1eddi gian \\u0111o\":\"2017-01-10\"},{\"Tr\\u1ea1m \\u0111o\":\"Ch\\u1ee3 L\\u00e1ch 11\",\"M\\u1ef1c n\\u01b0\\u1edbc (cm)\":153,\"Th\\u1eddi gian \\u0111o\":\"2017-01-11\"},{\"Tr\\u1ea1m \\u0111o\":\"Ch\\u1ee3 L\\u00e1ch 12\",\"M\\u1ef1c n\\u01b0\\u1edbc (cm)\":154,\"Th\\u1eddi gian \\u0111o\":\"2017-01-12\"},{\"Tr\\u1ea1m \\u0111o\":\"Ch\\u1ee3 L\\u00e1ch 13\",\"M\\u1ef1c n\\u01b0\\u1edbc (cm)\":156,\"Th\\u1eddi gian \\u0111o\":\"2017-01-13\"},{\"Tr\\u1ea1m \\u0111o\":\"Ch\\u1ee3 L\\u00e1ch 14\",\"M\\u1ef1c n\\u01b0\\u1edbc (cm)\":162,\"Th\\u1eddi gian \\u0111o\":\"2017-01-14\"},{\"Tr\\u1ea1m \\u0111o\":\"Ch\\u1ee3 L\\u00e1ch 15\",\"M\\u1ef1c n\\u01b0\\u1edbc (cm)\":161,\"Th\\u1eddi gian \\u0111o\":\"2017-01-15\"},{\"Tr\\u1ea1m \\u0111o\":\"Ch\\u1ee3 L\\u00e1ch 16\",\"M\\u1ef1c n\\u01b0\\u1edbc (cm)\":155,\"Th\\u1eddi gian \\u0111o\":\"2017-01-16\"},{\"Tr\\u1ea1m \\u0111o\":\"Ch\\u1ee3 L\\u00e1ch 17\",\"M\\u1ef1c n\\u01b0\\u1edbc (cm)\":151,\"Th\\u1eddi gian \\u0111o\":\"2017-01-17\"},{\"Tr\\u1ea1m \\u0111o\":\"Ch\\u1ee3 L\\u00e1ch 18\",\"M\\u1ef1c n\\u01b0\\u1edbc (cm)\":136,\"Th\\u1eddi gian \\u0111o\":\"2017-01-18\"},{\"Tr\\u1ea1m \\u0111o\":\"Ch\\u1ee3 L\\u00e1ch 19\",\"M\\u1ef1c n\\u01b0\\u1edbc (cm)\":133,\"Th\\u1eddi gian \\u0111o\":\"2017-01-19\"}]\n"
          ],
          "name": "stdout"
        }
      ]
    },
    {
      "cell_type": "code",
      "metadata": {
        "id": "qlfTI7KAQSkA",
        "colab_type": "code",
        "outputId": "c7c43c22-b3c4-4d14-f886-1d9faf40cb58",
        "colab": {
          "base_uri": "https://localhost:8080/",
          "height": 445
        }
      },
      "source": [
        "print('Excel Sheet to Dict:', excel_data_df.to_dict(orient='record'))\n",
        "print('Excel Sheet to JSON:', excel_data_df.to_json(orient='records'))\n",
        "print('Excel Sheet to CSV:\\n', excel_data_df.to_csv(index=False))"
      ],
      "execution_count": 0,
      "outputs": [
        {
          "output_type": "stream",
          "text": [
            "Excel Sheet to Dict: [{'Trạm đo': 'Chợ Lách 1', 'Mực nước (cm)': 150, 'Thời gian đo': '2017-01-01'}, {'Trạm đo': 'Chợ Lách 7', 'Mực nước (cm)': 156, 'Thời gian đo': '2017-01-02'}, {'Trạm đo': 'Chợ Lách 3', 'Mực nước (cm)': 160, 'Thời gian đo': '2017-01-03'}, {'Trạm đo': 'Chợ Lách 4', 'Mực nước (cm)': 150, 'Thời gian đo': '2017-01-04'}, {'Trạm đo': 'Chợ Lách 5', 'Mực nước (cm)': 149, 'Thời gian đo': '2017-01-05'}, {'Trạm đo': 'Chợ Lách 6', 'Mực nước (cm)': 151, 'Thời gian đo': '2017-01-06'}, {'Trạm đo': 'Chợ Lách 7', 'Mực nước (cm)': 143, 'Thời gian đo': '2017-01-07'}, {'Trạm đo': 'Chợ Lách 8', 'Mực nước (cm)': 143, 'Thời gian đo': '2017-01-08'}, {'Trạm đo': 'Chợ Lách 9', 'Mực nước (cm)': 147, 'Thời gian đo': '2017-01-09'}, {'Trạm đo': 'Chợ Lách 15', 'Mực nước (cm)': 152, 'Thời gian đo': '2017-01-10'}, {'Trạm đo': 'Chợ Lách 11', 'Mực nước (cm)': 153, 'Thời gian đo': '2017-01-11'}, {'Trạm đo': 'Chợ Lách 12', 'Mực nước (cm)': 154, 'Thời gian đo': '2017-01-12'}, {'Trạm đo': 'Chợ Lách 13', 'Mực nước (cm)': 156, 'Thời gian đo': '2017-01-13'}, {'Trạm đo': 'Chợ Lách 14', 'Mực nước (cm)': 162, 'Thời gian đo': '2017-01-14'}, {'Trạm đo': 'Chợ Lách 15', 'Mực nước (cm)': 161, 'Thời gian đo': '2017-01-15'}, {'Trạm đo': 'Chợ Lách 16', 'Mực nước (cm)': 155, 'Thời gian đo': '2017-01-16'}, {'Trạm đo': 'Chợ Lách 17', 'Mực nước (cm)': 151, 'Thời gian đo': '2017-01-17'}, {'Trạm đo': 'Chợ Lách 18', 'Mực nước (cm)': 136, 'Thời gian đo': '2017-01-18'}, {'Trạm đo': 'Chợ Lách 19', 'Mực nước (cm)': 133, 'Thời gian đo': '2017-01-19'}]\n",
            "Excel Sheet to JSON: [{\"Tr\\u1ea1m \\u0111o\":\"Ch\\u1ee3 L\\u00e1ch 1\",\"M\\u1ef1c n\\u01b0\\u1edbc (cm)\":150,\"Th\\u1eddi gian \\u0111o\":\"2017-01-01\"},{\"Tr\\u1ea1m \\u0111o\":\"Ch\\u1ee3 L\\u00e1ch 7\",\"M\\u1ef1c n\\u01b0\\u1edbc (cm)\":156,\"Th\\u1eddi gian \\u0111o\":\"2017-01-02\"},{\"Tr\\u1ea1m \\u0111o\":\"Ch\\u1ee3 L\\u00e1ch 3\",\"M\\u1ef1c n\\u01b0\\u1edbc (cm)\":160,\"Th\\u1eddi gian \\u0111o\":\"2017-01-03\"},{\"Tr\\u1ea1m \\u0111o\":\"Ch\\u1ee3 L\\u00e1ch 4\",\"M\\u1ef1c n\\u01b0\\u1edbc (cm)\":150,\"Th\\u1eddi gian \\u0111o\":\"2017-01-04\"},{\"Tr\\u1ea1m \\u0111o\":\"Ch\\u1ee3 L\\u00e1ch 5\",\"M\\u1ef1c n\\u01b0\\u1edbc (cm)\":149,\"Th\\u1eddi gian \\u0111o\":\"2017-01-05\"},{\"Tr\\u1ea1m \\u0111o\":\"Ch\\u1ee3 L\\u00e1ch 6\",\"M\\u1ef1c n\\u01b0\\u1edbc (cm)\":151,\"Th\\u1eddi gian \\u0111o\":\"2017-01-06\"},{\"Tr\\u1ea1m \\u0111o\":\"Ch\\u1ee3 L\\u00e1ch 7\",\"M\\u1ef1c n\\u01b0\\u1edbc (cm)\":143,\"Th\\u1eddi gian \\u0111o\":\"2017-01-07\"},{\"Tr\\u1ea1m \\u0111o\":\"Ch\\u1ee3 L\\u00e1ch 8\",\"M\\u1ef1c n\\u01b0\\u1edbc (cm)\":143,\"Th\\u1eddi gian \\u0111o\":\"2017-01-08\"},{\"Tr\\u1ea1m \\u0111o\":\"Ch\\u1ee3 L\\u00e1ch 9\",\"M\\u1ef1c n\\u01b0\\u1edbc (cm)\":147,\"Th\\u1eddi gian \\u0111o\":\"2017-01-09\"},{\"Tr\\u1ea1m \\u0111o\":\"Ch\\u1ee3 L\\u00e1ch 15\",\"M\\u1ef1c n\\u01b0\\u1edbc (cm)\":152,\"Th\\u1eddi gian \\u0111o\":\"2017-01-10\"},{\"Tr\\u1ea1m \\u0111o\":\"Ch\\u1ee3 L\\u00e1ch 11\",\"M\\u1ef1c n\\u01b0\\u1edbc (cm)\":153,\"Th\\u1eddi gian \\u0111o\":\"2017-01-11\"},{\"Tr\\u1ea1m \\u0111o\":\"Ch\\u1ee3 L\\u00e1ch 12\",\"M\\u1ef1c n\\u01b0\\u1edbc (cm)\":154,\"Th\\u1eddi gian \\u0111o\":\"2017-01-12\"},{\"Tr\\u1ea1m \\u0111o\":\"Ch\\u1ee3 L\\u00e1ch 13\",\"M\\u1ef1c n\\u01b0\\u1edbc (cm)\":156,\"Th\\u1eddi gian \\u0111o\":\"2017-01-13\"},{\"Tr\\u1ea1m \\u0111o\":\"Ch\\u1ee3 L\\u00e1ch 14\",\"M\\u1ef1c n\\u01b0\\u1edbc (cm)\":162,\"Th\\u1eddi gian \\u0111o\":\"2017-01-14\"},{\"Tr\\u1ea1m \\u0111o\":\"Ch\\u1ee3 L\\u00e1ch 15\",\"M\\u1ef1c n\\u01b0\\u1edbc (cm)\":161,\"Th\\u1eddi gian \\u0111o\":\"2017-01-15\"},{\"Tr\\u1ea1m \\u0111o\":\"Ch\\u1ee3 L\\u00e1ch 16\",\"M\\u1ef1c n\\u01b0\\u1edbc (cm)\":155,\"Th\\u1eddi gian \\u0111o\":\"2017-01-16\"},{\"Tr\\u1ea1m \\u0111o\":\"Ch\\u1ee3 L\\u00e1ch 17\",\"M\\u1ef1c n\\u01b0\\u1edbc (cm)\":151,\"Th\\u1eddi gian \\u0111o\":\"2017-01-17\"},{\"Tr\\u1ea1m \\u0111o\":\"Ch\\u1ee3 L\\u00e1ch 18\",\"M\\u1ef1c n\\u01b0\\u1edbc (cm)\":136,\"Th\\u1eddi gian \\u0111o\":\"2017-01-18\"},{\"Tr\\u1ea1m \\u0111o\":\"Ch\\u1ee3 L\\u00e1ch 19\",\"M\\u1ef1c n\\u01b0\\u1edbc (cm)\":133,\"Th\\u1eddi gian \\u0111o\":\"2017-01-19\"}]\n",
            "Excel Sheet to CSV:\n",
            " Trạm đo,Mực nước (cm),Thời gian đo\n",
            "Chợ Lách 1,150,2017-01-01\n",
            "Chợ Lách 7,156,2017-01-02\n",
            "Chợ Lách 3,160,2017-01-03\n",
            "Chợ Lách 4,150,2017-01-04\n",
            "Chợ Lách 5,149,2017-01-05\n",
            "Chợ Lách 6,151,2017-01-06\n",
            "Chợ Lách 7,143,2017-01-07\n",
            "Chợ Lách 8,143,2017-01-08\n",
            "Chợ Lách 9,147,2017-01-09\n",
            "Chợ Lách 15,152,2017-01-10\n",
            "Chợ Lách 11,153,2017-01-11\n",
            "Chợ Lách 12,154,2017-01-12\n",
            "Chợ Lách 13,156,2017-01-13\n",
            "Chợ Lách 14,162,2017-01-14\n",
            "Chợ Lách 15,161,2017-01-15\n",
            "Chợ Lách 16,155,2017-01-16\n",
            "Chợ Lách 17,151,2017-01-17\n",
            "Chợ Lách 18,136,2017-01-18\n",
            "Chợ Lách 19,133,2017-01-19\n",
            "\n"
          ],
          "name": "stdout"
        }
      ]
    },
    {
      "cell_type": "markdown",
      "metadata": {
        "id": "-nQaL6n0UTnP",
        "colab_type": "text"
      },
      "source": [
        "### Vọc rút thông tin"
      ]
    },
    {
      "cell_type": "markdown",
      "metadata": {
        "id": "yyr1uk6wX0g2",
        "colab_type": "text"
      },
      "source": [
        "#### Dict"
      ]
    },
    {
      "cell_type": "code",
      "metadata": {
        "id": "LSwCxgkZUTF0",
        "colab_type": "code",
        "outputId": "564573d9-394a-4289-8b74-bfcf8b0d59ce",
        "colab": {
          "base_uri": "https://localhost:8080/",
          "height": 54
        }
      },
      "source": [
        "cctl_giatri_mucnuoc=excel_data_df.to_dict(orient='records')\n",
        "print(cctl_giatri_mucnuoc)"
      ],
      "execution_count": 0,
      "outputs": [
        {
          "output_type": "stream",
          "text": [
            "[{'Trạm đo': 'Chợ Lách 1', 'Mực nước (cm)': 150, 'Thời gian đo': '2017-01-01'}, {'Trạm đo': 'Chợ Lách 7', 'Mực nước (cm)': 156, 'Thời gian đo': '2017-01-02'}, {'Trạm đo': 'Chợ Lách 3', 'Mực nước (cm)': 160, 'Thời gian đo': '2017-01-03'}, {'Trạm đo': 'Chợ Lách 4', 'Mực nước (cm)': 150, 'Thời gian đo': '2017-01-04'}, {'Trạm đo': 'Chợ Lách 5', 'Mực nước (cm)': 149, 'Thời gian đo': '2017-01-05'}, {'Trạm đo': 'Chợ Lách 6', 'Mực nước (cm)': 151, 'Thời gian đo': '2017-01-06'}, {'Trạm đo': 'Chợ Lách 7', 'Mực nước (cm)': 143, 'Thời gian đo': '2017-01-07'}, {'Trạm đo': 'Chợ Lách 8', 'Mực nước (cm)': 143, 'Thời gian đo': '2017-01-08'}, {'Trạm đo': 'Chợ Lách 9', 'Mực nước (cm)': 147, 'Thời gian đo': '2017-01-09'}, {'Trạm đo': 'Chợ Lách 15', 'Mực nước (cm)': 152, 'Thời gian đo': '2017-01-10'}, {'Trạm đo': 'Chợ Lách 11', 'Mực nước (cm)': 153, 'Thời gian đo': '2017-01-11'}, {'Trạm đo': 'Chợ Lách 12', 'Mực nước (cm)': 154, 'Thời gian đo': '2017-01-12'}, {'Trạm đo': 'Chợ Lách 13', 'Mực nước (cm)': 156, 'Thời gian đo': '2017-01-13'}, {'Trạm đo': 'Chợ Lách 14', 'Mực nước (cm)': 162, 'Thời gian đo': '2017-01-14'}, {'Trạm đo': 'Chợ Lách 15', 'Mực nước (cm)': 161, 'Thời gian đo': '2017-01-15'}, {'Trạm đo': 'Chợ Lách 16', 'Mực nước (cm)': 155, 'Thời gian đo': '2017-01-16'}, {'Trạm đo': 'Chợ Lách 17', 'Mực nước (cm)': 151, 'Thời gian đo': '2017-01-17'}, {'Trạm đo': 'Chợ Lách 18', 'Mực nước (cm)': 136, 'Thời gian đo': '2017-01-18'}, {'Trạm đo': 'Chợ Lách 19', 'Mực nước (cm)': 133, 'Thời gian đo': '2017-01-19'}]\n"
          ],
          "name": "stdout"
        }
      ]
    },
    {
      "cell_type": "code",
      "metadata": {
        "id": "4wlQmiZEUoPN",
        "colab_type": "code",
        "outputId": "856ec804-d2f6-49fe-defe-d324aa26a076",
        "colab": {
          "base_uri": "https://localhost:8080/",
          "height": 51
        }
      },
      "source": [
        "print(cctl_giatri_mucnuoc[0])\n",
        "print(cctl_giatri_mucnuoc[0]['Trạm đo'])"
      ],
      "execution_count": 0,
      "outputs": [
        {
          "output_type": "stream",
          "text": [
            "{'Trạm đo': 'Chợ Lách 1', 'Mực nước (cm)': 150, 'Thời gian đo': '2017-01-01'}\n",
            "Chợ Lách 1\n"
          ],
          "name": "stdout"
        }
      ]
    },
    {
      "cell_type": "markdown",
      "metadata": {
        "id": "vxzzpRT8XDp9",
        "colab_type": "text"
      },
      "source": [
        "#### Json"
      ]
    },
    {
      "cell_type": "code",
      "metadata": {
        "id": "utpC5fjFWuj9",
        "colab_type": "code",
        "outputId": "7e27a9d5-e167-4711-f82f-f9b97e876bcb",
        "colab": {
          "base_uri": "https://localhost:8080/",
          "height": 54
        }
      },
      "source": [
        "cctl_giatri_mucnuoc=json.loads(excel_data_df.to_json(orient='records'))\n",
        "print(cctl_giatri_mucnuoc)"
      ],
      "execution_count": 0,
      "outputs": [
        {
          "output_type": "stream",
          "text": [
            "[{'Trạm đo': 'Chợ Lách 1', 'Mực nước (cm)': 150, 'Thời gian đo': '2017-01-01'}, {'Trạm đo': 'Chợ Lách 7', 'Mực nước (cm)': 156, 'Thời gian đo': '2017-01-02'}, {'Trạm đo': 'Chợ Lách 3', 'Mực nước (cm)': 160, 'Thời gian đo': '2017-01-03'}, {'Trạm đo': 'Chợ Lách 4', 'Mực nước (cm)': 150, 'Thời gian đo': '2017-01-04'}, {'Trạm đo': 'Chợ Lách 5', 'Mực nước (cm)': 149, 'Thời gian đo': '2017-01-05'}, {'Trạm đo': 'Chợ Lách 6', 'Mực nước (cm)': 151, 'Thời gian đo': '2017-01-06'}, {'Trạm đo': 'Chợ Lách 7', 'Mực nước (cm)': 143, 'Thời gian đo': '2017-01-07'}, {'Trạm đo': 'Chợ Lách 8', 'Mực nước (cm)': 143, 'Thời gian đo': '2017-01-08'}, {'Trạm đo': 'Chợ Lách 9', 'Mực nước (cm)': 147, 'Thời gian đo': '2017-01-09'}, {'Trạm đo': 'Chợ Lách 15', 'Mực nước (cm)': 152, 'Thời gian đo': '2017-01-10'}, {'Trạm đo': 'Chợ Lách 11', 'Mực nước (cm)': 153, 'Thời gian đo': '2017-01-11'}, {'Trạm đo': 'Chợ Lách 12', 'Mực nước (cm)': 154, 'Thời gian đo': '2017-01-12'}, {'Trạm đo': 'Chợ Lách 13', 'Mực nước (cm)': 156, 'Thời gian đo': '2017-01-13'}, {'Trạm đo': 'Chợ Lách 14', 'Mực nước (cm)': 162, 'Thời gian đo': '2017-01-14'}, {'Trạm đo': 'Chợ Lách 15', 'Mực nước (cm)': 161, 'Thời gian đo': '2017-01-15'}, {'Trạm đo': 'Chợ Lách 16', 'Mực nước (cm)': 155, 'Thời gian đo': '2017-01-16'}, {'Trạm đo': 'Chợ Lách 17', 'Mực nước (cm)': 151, 'Thời gian đo': '2017-01-17'}, {'Trạm đo': 'Chợ Lách 18', 'Mực nước (cm)': 136, 'Thời gian đo': '2017-01-18'}, {'Trạm đo': 'Chợ Lách 19', 'Mực nước (cm)': 133, 'Thời gian đo': '2017-01-19'}]\n"
          ],
          "name": "stdout"
        }
      ]
    },
    {
      "cell_type": "code",
      "metadata": {
        "id": "R8c5sV98XW-8",
        "colab_type": "code",
        "outputId": "1012a764-ba37-456f-f703-4451ccbd7161",
        "colab": {
          "base_uri": "https://localhost:8080/",
          "height": 51
        }
      },
      "source": [
        "obj1=cctl_giatri_mucnuoc[0]\n",
        "print(obj1)\n",
        "print(obj1['Trạm đo'])"
      ],
      "execution_count": 0,
      "outputs": [
        {
          "output_type": "stream",
          "text": [
            "{'Trạm đo': 'Chợ Lách 1', 'Mực nước (cm)': 150, 'Thời gian đo': '2017-01-01'}\n",
            "Chợ Lách 1\n"
          ],
          "name": "stdout"
        }
      ]
    },
    {
      "cell_type": "markdown",
      "metadata": {
        "id": "QIbH0gP60G5J",
        "colab_type": "text"
      },
      "source": [
        "***\n",
        "\n",
        "## Test luu vao SQLite"
      ]
    },
    {
      "cell_type": "code",
      "metadata": {
        "id": "k9EFVnbtQ5lI",
        "colab_type": "code",
        "colab": {}
      },
      "source": [
        "!wget https://github.com/soiqualang/py_import_excel/raw/master/mucnuoc.kt"
      ],
      "execution_count": 0,
      "outputs": []
    },
    {
      "cell_type": "code",
      "metadata": {
        "id": "3igeMrLcdBkF",
        "colab_type": "code",
        "colab": {}
      },
      "source": [
        "!wget https://github.com/soiqualang/Py4Sqlite3/raw/master/Py4Sqlite3.py"
      ],
      "execution_count": 0,
      "outputs": []
    },
    {
      "cell_type": "code",
      "metadata": {
        "id": "_V55HYktM9yb",
        "colab_type": "code",
        "colab": {}
      },
      "source": [
        "import sqlite3\n",
        "import Py4Sqlite3 as db"
      ],
      "execution_count": 0,
      "outputs": []
    },
    {
      "cell_type": "code",
      "metadata": {
        "id": "KJ2nKvhtRAYb",
        "colab_type": "code",
        "colab": {}
      },
      "source": [
        "conn=sqlite3.connect('mucnuoc.kt')"
      ],
      "execution_count": 0,
      "outputs": []
    },
    {
      "cell_type": "markdown",
      "metadata": {
        "id": "cib2hpn3Rj3M",
        "colab_type": "text"
      },
      "source": [
        "### Test insert"
      ]
    },
    {
      "cell_type": "code",
      "metadata": {
        "id": "ay7onJlVRXNF",
        "colab_type": "code",
        "colab": {}
      },
      "source": [
        "field=['maso_loaigiatri','maso_tramdo','giatri','thoigian','ghichu','maso_nguoidung']\n",
        "value=['TV01','CCTL22','151','2017-01-14','Bình Đại','a5213aa3f426539eee278e082816e0df']\n",
        "\n",
        "db.insert_table('cctl_giatri_mucnuoc',field,value,conn)\n",
        "\n",
        "field=['maso_loaigiatri','maso_tramdo','giatri','thoigian','ghichu','maso_nguoidung']\n",
        "value=['TV01','CCTL22','156','2017-01-02','Mỹ Hóa','a5213aa3f426539eee278e082816e0df']\n",
        "\n",
        "db.insert_table('cctl_giatri_mucnuoc',field,value,conn)"
      ],
      "execution_count": 0,
      "outputs": []
    },
    {
      "cell_type": "markdown",
      "metadata": {
        "id": "QIERqt9US4mM",
        "colab_type": "text"
      },
      "source": [
        "### Test loop table"
      ]
    },
    {
      "cell_type": "code",
      "metadata": {
        "id": "noyvzYkWSogr",
        "colab_type": "code",
        "outputId": "326ef559-33da-41e7-90b3-e2f723184cc6",
        "colab": {
          "base_uri": "https://localhost:8080/",
          "height": 51
        }
      },
      "source": [
        "rows=db.table_to_array1('cctl_giatri_mucnuoc',conn)\n",
        "for row in rows:\n",
        "    print(row['id'],row['giatri'],row['thoigian'],row['ghichu'])"
      ],
      "execution_count": 0,
      "outputs": [
        {
          "output_type": "stream",
          "text": [
            "1 151 2017-01-14 Bình Đại\n",
            "2 156 2017-01-02 Mỹ Hóa\n"
          ],
          "name": "stdout"
        }
      ]
    },
    {
      "cell_type": "markdown",
      "metadata": {
        "id": "JmHp5F6SdU5c",
        "colab_type": "text"
      },
      "source": [
        "### Loop excel to import"
      ]
    },
    {
      "cell_type": "code",
      "metadata": {
        "id": "S9vNsn8nda6z",
        "colab_type": "code",
        "outputId": "ce942c70-f611-4237-e711-0e81d0f4ed6a",
        "colab": {
          "base_uri": "https://localhost:8080/",
          "height": 71
        }
      },
      "source": [
        "cctl_giatri_mucnuoc=excel_data_df.to_dict(orient='records')\n",
        "print(cctl_giatri_mucnuoc)\n",
        "print(len(cctl_giatri_mucnuoc))"
      ],
      "execution_count": 0,
      "outputs": [
        {
          "output_type": "stream",
          "text": [
            "[{'Trạm đo': 'Chợ Lách 1', 'Mực nước (cm)': 150, 'Thời gian đo': '2017-01-01'}, {'Trạm đo': 'Chợ Lách 7', 'Mực nước (cm)': 156, 'Thời gian đo': '2017-01-02'}, {'Trạm đo': 'Chợ Lách 3', 'Mực nước (cm)': 160, 'Thời gian đo': '2017-01-03'}, {'Trạm đo': 'Chợ Lách 4', 'Mực nước (cm)': 150, 'Thời gian đo': '2017-01-04'}, {'Trạm đo': 'Chợ Lách 5', 'Mực nước (cm)': 149, 'Thời gian đo': '2017-01-05'}, {'Trạm đo': 'Chợ Lách 6', 'Mực nước (cm)': 151, 'Thời gian đo': '2017-01-06'}, {'Trạm đo': 'Chợ Lách 7', 'Mực nước (cm)': 143, 'Thời gian đo': '2017-01-07'}, {'Trạm đo': 'Chợ Lách 8', 'Mực nước (cm)': 143, 'Thời gian đo': '2017-01-08'}, {'Trạm đo': 'Chợ Lách 9', 'Mực nước (cm)': 147, 'Thời gian đo': '2017-01-09'}, {'Trạm đo': 'Chợ Lách 15', 'Mực nước (cm)': 152, 'Thời gian đo': '2017-01-10'}, {'Trạm đo': 'Chợ Lách 11', 'Mực nước (cm)': 153, 'Thời gian đo': '2017-01-11'}, {'Trạm đo': 'Chợ Lách 12', 'Mực nước (cm)': 154, 'Thời gian đo': '2017-01-12'}, {'Trạm đo': 'Chợ Lách 13', 'Mực nước (cm)': 156, 'Thời gian đo': '2017-01-13'}, {'Trạm đo': 'Chợ Lách 14', 'Mực nước (cm)': 162, 'Thời gian đo': '2017-01-14'}, {'Trạm đo': 'Chợ Lách 15', 'Mực nước (cm)': 161, 'Thời gian đo': '2017-01-15'}, {'Trạm đo': 'Chợ Lách 16', 'Mực nước (cm)': 155, 'Thời gian đo': '2017-01-16'}, {'Trạm đo': 'Chợ Lách 17', 'Mực nước (cm)': 151, 'Thời gian đo': '2017-01-17'}, {'Trạm đo': 'Chợ Lách 18', 'Mực nước (cm)': 136, 'Thời gian đo': '2017-01-18'}, {'Trạm đo': 'Chợ Lách 19', 'Mực nước (cm)': 133, 'Thời gian đo': '2017-01-19'}]\n",
            "19\n"
          ],
          "name": "stdout"
        }
      ]
    },
    {
      "cell_type": "code",
      "metadata": {
        "id": "V5-pf1xHddoD",
        "colab_type": "code",
        "outputId": "392ac3da-f975-43a2-f6a9-18e3956256cb",
        "colab": {
          "base_uri": "https://localhost:8080/",
          "height": 68
        }
      },
      "source": [
        "for key, value in cctl_giatri_mucnuoc[0].items():\n",
        "    print(key, value)"
      ],
      "execution_count": 0,
      "outputs": [
        {
          "output_type": "stream",
          "text": [
            "Trạm đo Chợ Lách 1\n",
            "Mực nước (cm) 150\n",
            "Thời gian đo 2017-01-01\n"
          ],
          "name": "stdout"
        }
      ]
    },
    {
      "cell_type": "code",
      "metadata": {
        "id": "KtKN_z2GgmK0",
        "colab_type": "code",
        "colab": {}
      },
      "source": [
        "# Config\n",
        "colsname={\n",
        "  'Trạm đo': 'maso_tramdo',\n",
        "  'Mực nước (cm)': 'giatri',\n",
        "  'Thời gian đo': 'thoigian'\n",
        "}\n",
        "\n",
        "maso_loaigiatri={}\n",
        "maso_tramdo={}\n",
        "\n",
        "# Function\n",
        "\n",
        "def prepare_record(record):\n",
        "    fields=[]\n",
        "    values=[]\n",
        "    #for key, value in cctl_giatri_mucnuoc[0].items():\n",
        "    for key, value in record.items():\n",
        "        #print(key, value)\n",
        "        fields.append(str(colsname[key]))\n",
        "        values.append(str(value))\n",
        "\n",
        "    fields.append('maso_loaigiatri')\n",
        "    values.append('TV01')\n",
        "\n",
        "    fields.append('ghichu')\n",
        "    values.append('Bình Đại')\n",
        "\n",
        "    fields.append('maso_nguoidung')\n",
        "    values.append('a5213aa3f426539eee278e082816e0df')\n",
        "\n",
        "    return {\n",
        "            'fields':fields,\n",
        "            'values':values\n",
        "            }\n",
        "\n",
        "\n",
        "# Prepare data\n",
        "for record in cctl_giatri_mucnuoc:\n",
        "    rec=prepare_record(record)\n",
        "    #print(rec['fields'])\n",
        "    #print(rec['values'])\n",
        "    db.insert_table('cctl_giatri_mucnuoc',rec['fields'],rec['values'],conn)\n"
      ],
      "execution_count": 0,
      "outputs": []
    },
    {
      "cell_type": "code",
      "metadata": {
        "id": "EI72hbk4ivjM",
        "colab_type": "code",
        "colab": {}
      },
      "source": [
        "rows=db.table_to_array1('cctl_giatri_mucnuoc',conn)\n",
        "for row in rows:\n",
        "    print(row['id'],row['giatri'],row['thoigian'],row['ghichu'])"
      ],
      "execution_count": 0,
      "outputs": []
    },
    {
      "cell_type": "markdown",
      "metadata": {
        "id": "0X8L0mzOkyw1",
        "colab_type": "text"
      },
      "source": [
        "## tesst"
      ]
    },
    {
      "cell_type": "code",
      "metadata": {
        "id": "ogxaSSSRiz3S",
        "colab_type": "code",
        "colab": {}
      },
      "source": [
        "excel_data_df = pandas.read_excel('mucnuoc.xlsx', sheet_name='Sheet1', usecols=['Trạm đo', 'Mực nước (cm)', 'Thời gian đo'])\n",
        "#print(excel_data_df)"
      ],
      "execution_count": 0,
      "outputs": []
    },
    {
      "cell_type": "code",
      "metadata": {
        "id": "8PPvgpWuk3mL",
        "colab_type": "code",
        "colab": {}
      },
      "source": [
        "cctl_giatri_mucnuoc=excel_data_df.to_dict(orient='records')"
      ],
      "execution_count": 0,
      "outputs": []
    },
    {
      "cell_type": "code",
      "metadata": {
        "id": "dAgVqfcqk77q",
        "colab_type": "code",
        "colab": {}
      },
      "source": [
        "# Config\n",
        "colsname={\n",
        "  'Trạm đo': 'maso_tramdo',\n",
        "  'Mực nước (cm)': 'giatri',\n",
        "  'Thời gian đo': 'thoigian'\n",
        "}\n",
        "\n",
        "maso_loaigiatri={}\n",
        "maso_tramdo={}\n",
        "\n",
        "# Function\n",
        "\n",
        "def prepare_record(record):\n",
        "    fields=[]\n",
        "    values=[]\n",
        "    #for key, value in cctl_giatri_mucnuoc[0].items():\n",
        "    for key, value in record.items():\n",
        "        #print(key, value)\n",
        "        fields.append(str(colsname[key]))\n",
        "        values.append(str(value))\n",
        "\n",
        "    fields.append('maso_loaigiatri')\n",
        "    values.append('TV01')\n",
        "\n",
        "    fields.append('ghichu')\n",
        "    values.append('Bình Đại')\n",
        "\n",
        "    fields.append('maso_nguoidung')\n",
        "    values.append('a5213aa3f426539eee278e082816e0df')\n",
        "\n",
        "    return {\n",
        "            'fields':fields,\n",
        "            'values':values\n",
        "            }\n",
        "\n",
        "\n",
        "# Prepare data\n",
        "for record in cctl_giatri_mucnuoc:\n",
        "    rec=prepare_record(record)\n",
        "    #print(rec['fields'])\n",
        "    #print(rec['values'])\n",
        "    db.insert_table('cctl_giatri_mucnuoc',rec['fields'],rec['values'],conn)\n"
      ],
      "execution_count": 0,
      "outputs": []
    },
    {
      "cell_type": "code",
      "metadata": {
        "id": "fNRXyL2BlDVK",
        "colab_type": "code",
        "outputId": "146a3772-5f2f-4211-bfc3-af8161847926",
        "colab": {
          "base_uri": "https://localhost:8080/",
          "height": 299
        }
      },
      "source": [
        "rc1=db.getElement('cctl_giatri_mucnuoc','thoigian','id',2,conn)\n",
        "print(rc1)"
      ],
      "execution_count": 0,
      "outputs": [
        {
          "output_type": "error",
          "ename": "TypeError",
          "evalue": "ignored",
          "traceback": [
            "\u001b[0;31m---------------------------------------------------------------------------\u001b[0m",
            "\u001b[0;31mTypeError\u001b[0m                                 Traceback (most recent call last)",
            "\u001b[0;32m<ipython-input-65-f7d3057a2b37>\u001b[0m in \u001b[0;36m<module>\u001b[0;34m()\u001b[0m\n\u001b[0;32m----> 1\u001b[0;31m \u001b[0mrc1\u001b[0m\u001b[0;34m=\u001b[0m\u001b[0mdb\u001b[0m\u001b[0;34m.\u001b[0m\u001b[0mgetElement\u001b[0m\u001b[0;34m(\u001b[0m\u001b[0;34m'cctl_giatri_mucnuoc'\u001b[0m\u001b[0;34m,\u001b[0m\u001b[0;34m'thoigian'\u001b[0m\u001b[0;34m,\u001b[0m\u001b[0;34m'id'\u001b[0m\u001b[0;34m,\u001b[0m\u001b[0;36m2\u001b[0m\u001b[0;34m,\u001b[0m\u001b[0mconn\u001b[0m\u001b[0;34m)\u001b[0m\u001b[0;34m\u001b[0m\u001b[0;34m\u001b[0m\u001b[0m\n\u001b[0m\u001b[1;32m      2\u001b[0m \u001b[0mprint\u001b[0m\u001b[0;34m(\u001b[0m\u001b[0mrc1\u001b[0m\u001b[0;34m)\u001b[0m\u001b[0;34m\u001b[0m\u001b[0;34m\u001b[0m\u001b[0m\n",
            "\u001b[0;32m/content/Py4Sqlite3.py\u001b[0m in \u001b[0;36mgetElement\u001b[0;34m(tbl_table, element, where, id, conn)\u001b[0m\n\u001b[1;32m     48\u001b[0m         \u001b[0mdata\u001b[0m \u001b[0;34m=\u001b[0m \u001b[0mcur\u001b[0m\u001b[0;34m.\u001b[0m\u001b[0mfetchone\u001b[0m\u001b[0;34m(\u001b[0m\u001b[0;34m)\u001b[0m\u001b[0;34m\u001b[0m\u001b[0;34m\u001b[0m\u001b[0m\n\u001b[1;32m     49\u001b[0m         \u001b[0;31m#data=cur.fetchall()\u001b[0m\u001b[0;34m\u001b[0m\u001b[0;34m\u001b[0m\u001b[0;34m\u001b[0m\u001b[0m\n\u001b[0;32m---> 50\u001b[0;31m         \u001b[0;32mreturn\u001b[0m \u001b[0mdata\u001b[0m\u001b[0;34m[\u001b[0m\u001b[0melement\u001b[0m\u001b[0;34m]\u001b[0m\u001b[0;34m\u001b[0m\u001b[0;34m\u001b[0m\u001b[0m\n\u001b[0m\u001b[1;32m     51\u001b[0m         \u001b[0mcur\u001b[0m\u001b[0;34m.\u001b[0m\u001b[0mclose\u001b[0m\u001b[0;34m(\u001b[0m\u001b[0;34m)\u001b[0m\u001b[0;34m\u001b[0m\u001b[0;34m\u001b[0m\u001b[0m\n\u001b[1;32m     52\u001b[0m \u001b[0;34m\u001b[0m\u001b[0m\n",
            "\u001b[0;31mTypeError\u001b[0m: tuple indices must be integers or slices, not str"
          ]
        }
      ]
    },
    {
      "cell_type": "code",
      "metadata": {
        "id": "mfrQ-QGvnGpF",
        "colab_type": "code",
        "colab": {}
      },
      "source": [
        ""
      ],
      "execution_count": 0,
      "outputs": []
    }
  ]
}